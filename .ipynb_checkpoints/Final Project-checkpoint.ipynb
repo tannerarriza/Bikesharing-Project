{
 "cells": [
  {
   "cell_type": "markdown",
   "metadata": {},
   "source": [
    "# Final Project: Stat 102"
   ]
  },
  {
   "cell_type": "code",
   "execution_count": 2,
   "metadata": {},
   "outputs": [],
   "source": [
    "import numpy as np\n",
    "import pandas as pd\n",
    "import matplotlib.pyplot as plt\n",
    "import seaborn as sns"
   ]
  },
  {
   "cell_type": "code",
   "execution_count": 275,
   "metadata": {},
   "outputs": [],
   "source": [
    "# chi = pd.read_csv(\"chicago.csv\")\n",
    "# ny = pd.read_csv(\"ny.csv\")\n",
    "# dc = pd.read_csv(\"dc.csv\")\n",
    "daily = pd.read_csv(\"day.csv\")"
   ]
  },
  {
   "cell_type": "code",
   "execution_count": 4,
   "metadata": {},
   "outputs": [
    {
     "name": "stdout",
     "output_type": "stream",
     "text": [
      "Index(['trip_id', 'starttime', 'stoptime', 'bikeid', 'tripduration',\n",
      "       'from_station_id', 'from_station_name', 'to_station_id',\n",
      "       'to_station_name', 'usertype', 'gender', 'birthyear'],\n",
      "      dtype='object')\n",
      "trip_id                int64\n",
      "starttime             object\n",
      "stoptime              object\n",
      "bikeid                 int64\n",
      "tripduration           int64\n",
      "from_station_id        int64\n",
      "from_station_name     object\n",
      "to_station_id          int64\n",
      "to_station_name       object\n",
      "usertype              object\n",
      "gender                object\n",
      "birthyear            float64\n",
      "dtype: object\n"
     ]
    },
    {
     "data": {
      "text/html": [
       "<div>\n",
       "<style scoped>\n",
       "    .dataframe tbody tr th:only-of-type {\n",
       "        vertical-align: middle;\n",
       "    }\n",
       "\n",
       "    .dataframe tbody tr th {\n",
       "        vertical-align: top;\n",
       "    }\n",
       "\n",
       "    .dataframe thead th {\n",
       "        text-align: right;\n",
       "    }\n",
       "</style>\n",
       "<table border=\"1\" class=\"dataframe\">\n",
       "  <thead>\n",
       "    <tr style=\"text-align: right;\">\n",
       "      <th></th>\n",
       "      <th>trip_id</th>\n",
       "      <th>starttime</th>\n",
       "      <th>stoptime</th>\n",
       "      <th>bikeid</th>\n",
       "      <th>tripduration</th>\n",
       "      <th>from_station_id</th>\n",
       "      <th>from_station_name</th>\n",
       "      <th>to_station_id</th>\n",
       "      <th>to_station_name</th>\n",
       "      <th>usertype</th>\n",
       "      <th>gender</th>\n",
       "      <th>birthyear</th>\n",
       "    </tr>\n",
       "  </thead>\n",
       "  <tbody>\n",
       "    <tr>\n",
       "      <th>0</th>\n",
       "      <td>9080545</td>\n",
       "      <td>3/31/2016 23:30</td>\n",
       "      <td>3/31/2016 23:46</td>\n",
       "      <td>2295</td>\n",
       "      <td>926</td>\n",
       "      <td>156</td>\n",
       "      <td>Clark St &amp; Wellington Ave</td>\n",
       "      <td>166</td>\n",
       "      <td>Ashland Ave &amp; Wrightwood Ave</td>\n",
       "      <td>Subscriber</td>\n",
       "      <td>Male</td>\n",
       "      <td>1990.0</td>\n",
       "    </tr>\n",
       "    <tr>\n",
       "      <th>1</th>\n",
       "      <td>9080521</td>\n",
       "      <td>3/31/2016 22:59</td>\n",
       "      <td>3/31/2016 23:02</td>\n",
       "      <td>3439</td>\n",
       "      <td>198</td>\n",
       "      <td>259</td>\n",
       "      <td>California Ave &amp; Francis Pl</td>\n",
       "      <td>276</td>\n",
       "      <td>California Ave &amp; North Ave</td>\n",
       "      <td>Subscriber</td>\n",
       "      <td>Male</td>\n",
       "      <td>1974.0</td>\n",
       "    </tr>\n",
       "    <tr>\n",
       "      <th>2</th>\n",
       "      <td>9080479</td>\n",
       "      <td>3/31/2016 22:24</td>\n",
       "      <td>3/31/2016 22:26</td>\n",
       "      <td>4337</td>\n",
       "      <td>124</td>\n",
       "      <td>344</td>\n",
       "      <td>Ravenswood Ave &amp; Lawrence Ave</td>\n",
       "      <td>242</td>\n",
       "      <td>Damen Ave &amp; Leland Ave</td>\n",
       "      <td>Subscriber</td>\n",
       "      <td>Female</td>\n",
       "      <td>1992.0</td>\n",
       "    </tr>\n",
       "    <tr>\n",
       "      <th>3</th>\n",
       "      <td>9080475</td>\n",
       "      <td>3/31/2016 22:22</td>\n",
       "      <td>3/31/2016 22:41</td>\n",
       "      <td>3760</td>\n",
       "      <td>1181</td>\n",
       "      <td>318</td>\n",
       "      <td>Southport Ave &amp; Irving Park Rd</td>\n",
       "      <td>458</td>\n",
       "      <td>Broadway &amp; Thorndale Ave</td>\n",
       "      <td>Subscriber</td>\n",
       "      <td>Female</td>\n",
       "      <td>1979.0</td>\n",
       "    </tr>\n",
       "    <tr>\n",
       "      <th>4</th>\n",
       "      <td>9080443</td>\n",
       "      <td>3/31/2016 22:08</td>\n",
       "      <td>3/31/2016 22:19</td>\n",
       "      <td>1270</td>\n",
       "      <td>656</td>\n",
       "      <td>345</td>\n",
       "      <td>Lake Park Ave &amp; 56th St</td>\n",
       "      <td>426</td>\n",
       "      <td>Ellis Ave &amp; 60th St</td>\n",
       "      <td>Subscriber</td>\n",
       "      <td>Female</td>\n",
       "      <td>1997.0</td>\n",
       "    </tr>\n",
       "  </tbody>\n",
       "</table>\n",
       "</div>"
      ],
      "text/plain": [
       "   trip_id        starttime         stoptime  bikeid  tripduration  \\\n",
       "0  9080545  3/31/2016 23:30  3/31/2016 23:46    2295           926   \n",
       "1  9080521  3/31/2016 22:59  3/31/2016 23:02    3439           198   \n",
       "2  9080479  3/31/2016 22:24  3/31/2016 22:26    4337           124   \n",
       "3  9080475  3/31/2016 22:22  3/31/2016 22:41    3760          1181   \n",
       "4  9080443  3/31/2016 22:08  3/31/2016 22:19    1270           656   \n",
       "\n",
       "   from_station_id               from_station_name  to_station_id  \\\n",
       "0              156       Clark St & Wellington Ave            166   \n",
       "1              259     California Ave & Francis Pl            276   \n",
       "2              344   Ravenswood Ave & Lawrence Ave            242   \n",
       "3              318  Southport Ave & Irving Park Rd            458   \n",
       "4              345         Lake Park Ave & 56th St            426   \n",
       "\n",
       "                to_station_name    usertype  gender  birthyear  \n",
       "0  Ashland Ave & Wrightwood Ave  Subscriber    Male     1990.0  \n",
       "1    California Ave & North Ave  Subscriber    Male     1974.0  \n",
       "2        Damen Ave & Leland Ave  Subscriber  Female     1992.0  \n",
       "3      Broadway & Thorndale Ave  Subscriber  Female     1979.0  \n",
       "4           Ellis Ave & 60th St  Subscriber  Female     1997.0  "
      ]
     },
     "execution_count": 4,
     "metadata": {},
     "output_type": "execute_result"
    }
   ],
   "source": [
    "print(chi.columns)\n",
    "print(chi.dtypes)\n",
    "chi.head()"
   ]
  },
  {
   "cell_type": "code",
   "execution_count": 5,
   "metadata": {},
   "outputs": [
    {
     "name": "stdout",
     "output_type": "stream",
     "text": [
      "Index(['tripduration', 'starttime', 'stoptime', 'start station id',\n",
      "       'start station name', 'start station latitude',\n",
      "       'start station longitude', 'end station id', 'end station name',\n",
      "       'end station latitude', 'end station longitude', 'bikeid', 'usertype',\n",
      "       'birth year', 'gender'],\n",
      "      dtype='object')\n",
      "tripduration                 int64\n",
      "starttime                   object\n",
      "stoptime                    object\n",
      "start station id             int64\n",
      "start station name          object\n",
      "start station latitude     float64\n",
      "start station longitude    float64\n",
      "end station id               int64\n",
      "end station name            object\n",
      "end station latitude       float64\n",
      "end station longitude      float64\n",
      "bikeid                       int64\n",
      "usertype                    object\n",
      "birth year                 float64\n",
      "gender                       int64\n",
      "dtype: object\n"
     ]
    },
    {
     "data": {
      "text/html": [
       "<div>\n",
       "<style scoped>\n",
       "    .dataframe tbody tr th:only-of-type {\n",
       "        vertical-align: middle;\n",
       "    }\n",
       "\n",
       "    .dataframe tbody tr th {\n",
       "        vertical-align: top;\n",
       "    }\n",
       "\n",
       "    .dataframe thead th {\n",
       "        text-align: right;\n",
       "    }\n",
       "</style>\n",
       "<table border=\"1\" class=\"dataframe\">\n",
       "  <thead>\n",
       "    <tr style=\"text-align: right;\">\n",
       "      <th></th>\n",
       "      <th>tripduration</th>\n",
       "      <th>starttime</th>\n",
       "      <th>stoptime</th>\n",
       "      <th>start station id</th>\n",
       "      <th>start station name</th>\n",
       "      <th>start station latitude</th>\n",
       "      <th>start station longitude</th>\n",
       "      <th>end station id</th>\n",
       "      <th>end station name</th>\n",
       "      <th>end station latitude</th>\n",
       "      <th>end station longitude</th>\n",
       "      <th>bikeid</th>\n",
       "      <th>usertype</th>\n",
       "      <th>birth year</th>\n",
       "      <th>gender</th>\n",
       "    </tr>\n",
       "  </thead>\n",
       "  <tbody>\n",
       "    <tr>\n",
       "      <th>0</th>\n",
       "      <td>839</td>\n",
       "      <td>1/1/2016 00:09:55</td>\n",
       "      <td>1/1/2016 00:23:54</td>\n",
       "      <td>532</td>\n",
       "      <td>S 5 Pl &amp; S 4 St</td>\n",
       "      <td>40.710451</td>\n",
       "      <td>-73.960876</td>\n",
       "      <td>401</td>\n",
       "      <td>Allen St &amp; Rivington St</td>\n",
       "      <td>40.720196</td>\n",
       "      <td>-73.989978</td>\n",
       "      <td>17109</td>\n",
       "      <td>Customer</td>\n",
       "      <td>NaN</td>\n",
       "      <td>0</td>\n",
       "    </tr>\n",
       "    <tr>\n",
       "      <th>1</th>\n",
       "      <td>686</td>\n",
       "      <td>1/1/2016 00:21:17</td>\n",
       "      <td>1/1/2016 00:32:44</td>\n",
       "      <td>3143</td>\n",
       "      <td>5 Ave &amp; E 78 St</td>\n",
       "      <td>40.776829</td>\n",
       "      <td>-73.963888</td>\n",
       "      <td>3132</td>\n",
       "      <td>E 59 St &amp; Madison Ave</td>\n",
       "      <td>40.763505</td>\n",
       "      <td>-73.971092</td>\n",
       "      <td>23514</td>\n",
       "      <td>Subscriber</td>\n",
       "      <td>1960.0</td>\n",
       "      <td>1</td>\n",
       "    </tr>\n",
       "    <tr>\n",
       "      <th>2</th>\n",
       "      <td>315</td>\n",
       "      <td>1/1/2016 00:33:11</td>\n",
       "      <td>1/1/2016 00:38:26</td>\n",
       "      <td>3164</td>\n",
       "      <td>Columbus Ave &amp; W 72 St</td>\n",
       "      <td>40.777057</td>\n",
       "      <td>-73.978985</td>\n",
       "      <td>3178</td>\n",
       "      <td>Riverside Dr &amp; W 78 St</td>\n",
       "      <td>40.784145</td>\n",
       "      <td>-73.983625</td>\n",
       "      <td>14536</td>\n",
       "      <td>Subscriber</td>\n",
       "      <td>1971.0</td>\n",
       "      <td>1</td>\n",
       "    </tr>\n",
       "    <tr>\n",
       "      <th>3</th>\n",
       "      <td>739</td>\n",
       "      <td>1/1/2016 00:40:51</td>\n",
       "      <td>1/1/2016 00:53:11</td>\n",
       "      <td>223</td>\n",
       "      <td>W 13 St &amp; 7 Ave</td>\n",
       "      <td>40.737815</td>\n",
       "      <td>-73.999947</td>\n",
       "      <td>276</td>\n",
       "      <td>Duane St &amp; Greenwich St</td>\n",
       "      <td>40.717488</td>\n",
       "      <td>-74.010455</td>\n",
       "      <td>24062</td>\n",
       "      <td>Subscriber</td>\n",
       "      <td>1969.0</td>\n",
       "      <td>1</td>\n",
       "    </tr>\n",
       "    <tr>\n",
       "      <th>4</th>\n",
       "      <td>1253</td>\n",
       "      <td>1/1/2016 00:44:16</td>\n",
       "      <td>1/1/2016 01:05:09</td>\n",
       "      <td>484</td>\n",
       "      <td>W 44 St &amp; 5 Ave</td>\n",
       "      <td>40.755003</td>\n",
       "      <td>-73.980144</td>\n",
       "      <td>151</td>\n",
       "      <td>Cleveland Pl &amp; Spring St</td>\n",
       "      <td>40.722104</td>\n",
       "      <td>-73.997249</td>\n",
       "      <td>16380</td>\n",
       "      <td>Customer</td>\n",
       "      <td>NaN</td>\n",
       "      <td>0</td>\n",
       "    </tr>\n",
       "  </tbody>\n",
       "</table>\n",
       "</div>"
      ],
      "text/plain": [
       "   tripduration          starttime           stoptime  start station id  \\\n",
       "0           839  1/1/2016 00:09:55  1/1/2016 00:23:54               532   \n",
       "1           686  1/1/2016 00:21:17  1/1/2016 00:32:44              3143   \n",
       "2           315  1/1/2016 00:33:11  1/1/2016 00:38:26              3164   \n",
       "3           739  1/1/2016 00:40:51  1/1/2016 00:53:11               223   \n",
       "4          1253  1/1/2016 00:44:16  1/1/2016 01:05:09               484   \n",
       "\n",
       "       start station name  start station latitude  start station longitude  \\\n",
       "0         S 5 Pl & S 4 St               40.710451               -73.960876   \n",
       "1         5 Ave & E 78 St               40.776829               -73.963888   \n",
       "2  Columbus Ave & W 72 St               40.777057               -73.978985   \n",
       "3         W 13 St & 7 Ave               40.737815               -73.999947   \n",
       "4         W 44 St & 5 Ave               40.755003               -73.980144   \n",
       "\n",
       "   end station id          end station name  end station latitude  \\\n",
       "0             401   Allen St & Rivington St             40.720196   \n",
       "1            3132     E 59 St & Madison Ave             40.763505   \n",
       "2            3178    Riverside Dr & W 78 St             40.784145   \n",
       "3             276   Duane St & Greenwich St             40.717488   \n",
       "4             151  Cleveland Pl & Spring St             40.722104   \n",
       "\n",
       "   end station longitude  bikeid    usertype  birth year  gender  \n",
       "0             -73.989978   17109    Customer         NaN       0  \n",
       "1             -73.971092   23514  Subscriber      1960.0       1  \n",
       "2             -73.983625   14536  Subscriber      1971.0       1  \n",
       "3             -74.010455   24062  Subscriber      1969.0       1  \n",
       "4             -73.997249   16380    Customer         NaN       0  "
      ]
     },
     "execution_count": 5,
     "metadata": {},
     "output_type": "execute_result"
    }
   ],
   "source": [
    "print(ny.columns)\n",
    "print(ny.dtypes)\n",
    "ny.head()"
   ]
  },
  {
   "cell_type": "code",
   "execution_count": 6,
   "metadata": {},
   "outputs": [
    {
     "name": "stdout",
     "output_type": "stream",
     "text": [
      "Index(['Duration (ms)', 'Start date', 'End date', 'Start station number',\n",
      "       'Start station', 'End station number', 'End station', 'Bike number',\n",
      "       'Member Type'],\n",
      "      dtype='object')\n",
      "Duration (ms)            int64\n",
      "Start date              object\n",
      "End date                object\n",
      "Start station number     int64\n",
      "Start station           object\n",
      "End station number       int64\n",
      "End station             object\n",
      "Bike number             object\n",
      "Member Type             object\n",
      "dtype: object\n"
     ]
    },
    {
     "data": {
      "text/html": [
       "<div>\n",
       "<style scoped>\n",
       "    .dataframe tbody tr th:only-of-type {\n",
       "        vertical-align: middle;\n",
       "    }\n",
       "\n",
       "    .dataframe tbody tr th {\n",
       "        vertical-align: top;\n",
       "    }\n",
       "\n",
       "    .dataframe thead th {\n",
       "        text-align: right;\n",
       "    }\n",
       "</style>\n",
       "<table border=\"1\" class=\"dataframe\">\n",
       "  <thead>\n",
       "    <tr style=\"text-align: right;\">\n",
       "      <th></th>\n",
       "      <th>Duration (ms)</th>\n",
       "      <th>Start date</th>\n",
       "      <th>End date</th>\n",
       "      <th>Start station number</th>\n",
       "      <th>Start station</th>\n",
       "      <th>End station number</th>\n",
       "      <th>End station</th>\n",
       "      <th>Bike number</th>\n",
       "      <th>Member Type</th>\n",
       "    </tr>\n",
       "  </thead>\n",
       "  <tbody>\n",
       "    <tr>\n",
       "      <th>0</th>\n",
       "      <td>427387</td>\n",
       "      <td>3/31/2016 22:57</td>\n",
       "      <td>3/31/2016 23:04</td>\n",
       "      <td>31602</td>\n",
       "      <td>Park Rd &amp; Holmead Pl NW</td>\n",
       "      <td>31207</td>\n",
       "      <td>Georgia Ave and Fairmont St NW</td>\n",
       "      <td>W20842</td>\n",
       "      <td>Registered</td>\n",
       "    </tr>\n",
       "    <tr>\n",
       "      <th>1</th>\n",
       "      <td>587551</td>\n",
       "      <td>3/31/2016 22:46</td>\n",
       "      <td>3/31/2016 22:56</td>\n",
       "      <td>31105</td>\n",
       "      <td>14th &amp; Harvard St NW</td>\n",
       "      <td>31266</td>\n",
       "      <td>11th &amp; M St NW</td>\n",
       "      <td>W21385</td>\n",
       "      <td>Registered</td>\n",
       "    </tr>\n",
       "    <tr>\n",
       "      <th>2</th>\n",
       "      <td>397979</td>\n",
       "      <td>3/31/2016 22:46</td>\n",
       "      <td>3/31/2016 22:53</td>\n",
       "      <td>31634</td>\n",
       "      <td>3rd &amp; Tingey St SE</td>\n",
       "      <td>31108</td>\n",
       "      <td>4th &amp; M St SW</td>\n",
       "      <td>W00773</td>\n",
       "      <td>Registered</td>\n",
       "    </tr>\n",
       "    <tr>\n",
       "      <th>3</th>\n",
       "      <td>444282</td>\n",
       "      <td>3/31/2016 22:42</td>\n",
       "      <td>3/31/2016 22:50</td>\n",
       "      <td>31200</td>\n",
       "      <td>Massachusetts Ave &amp; Dupont Circle NW</td>\n",
       "      <td>31201</td>\n",
       "      <td>15th &amp; P St NW</td>\n",
       "      <td>W21397</td>\n",
       "      <td>Registered</td>\n",
       "    </tr>\n",
       "    <tr>\n",
       "      <th>4</th>\n",
       "      <td>780875</td>\n",
       "      <td>3/31/2016 22:21</td>\n",
       "      <td>3/31/2016 22:34</td>\n",
       "      <td>31203</td>\n",
       "      <td>14th &amp; Rhode Island Ave NW</td>\n",
       "      <td>31604</td>\n",
       "      <td>3rd &amp; H St NW</td>\n",
       "      <td>W00213</td>\n",
       "      <td>Registered</td>\n",
       "    </tr>\n",
       "  </tbody>\n",
       "</table>\n",
       "</div>"
      ],
      "text/plain": [
       "   Duration (ms)       Start date         End date  Start station number  \\\n",
       "0         427387  3/31/2016 22:57  3/31/2016 23:04                 31602   \n",
       "1         587551  3/31/2016 22:46  3/31/2016 22:56                 31105   \n",
       "2         397979  3/31/2016 22:46  3/31/2016 22:53                 31634   \n",
       "3         444282  3/31/2016 22:42  3/31/2016 22:50                 31200   \n",
       "4         780875  3/31/2016 22:21  3/31/2016 22:34                 31203   \n",
       "\n",
       "                          Start station  End station number  \\\n",
       "0               Park Rd & Holmead Pl NW               31207   \n",
       "1                  14th & Harvard St NW               31266   \n",
       "2                    3rd & Tingey St SE               31108   \n",
       "3  Massachusetts Ave & Dupont Circle NW               31201   \n",
       "4            14th & Rhode Island Ave NW               31604   \n",
       "\n",
       "                      End station Bike number Member Type  \n",
       "0  Georgia Ave and Fairmont St NW      W20842  Registered  \n",
       "1                  11th & M St NW      W21385  Registered  \n",
       "2                   4th & M St SW      W00773  Registered  \n",
       "3                  15th & P St NW      W21397  Registered  \n",
       "4                   3rd & H St NW      W00213  Registered  "
      ]
     },
     "execution_count": 6,
     "metadata": {},
     "output_type": "execute_result"
    }
   ],
   "source": [
    "print(dc.columns)\n",
    "print(dc.dtypes)\n",
    "dc.head()"
   ]
  },
  {
   "cell_type": "code",
   "execution_count": 7,
   "metadata": {},
   "outputs": [
    {
     "name": "stdout",
     "output_type": "stream",
     "text": [
      "Index(['instant', 'dteday', 'season', 'yr', 'mnth', 'holiday', 'weekday',\n",
      "       'workingday', 'weathersit', 'temp', 'atemp', 'hum', 'windspeed',\n",
      "       'casual', 'registered', 'cnt'],\n",
      "      dtype='object')\n"
     ]
    },
    {
     "data": {
      "text/html": [
       "<div>\n",
       "<style scoped>\n",
       "    .dataframe tbody tr th:only-of-type {\n",
       "        vertical-align: middle;\n",
       "    }\n",
       "\n",
       "    .dataframe tbody tr th {\n",
       "        vertical-align: top;\n",
       "    }\n",
       "\n",
       "    .dataframe thead th {\n",
       "        text-align: right;\n",
       "    }\n",
       "</style>\n",
       "<table border=\"1\" class=\"dataframe\">\n",
       "  <thead>\n",
       "    <tr style=\"text-align: right;\">\n",
       "      <th></th>\n",
       "      <th>instant</th>\n",
       "      <th>dteday</th>\n",
       "      <th>season</th>\n",
       "      <th>yr</th>\n",
       "      <th>mnth</th>\n",
       "      <th>holiday</th>\n",
       "      <th>weekday</th>\n",
       "      <th>workingday</th>\n",
       "      <th>weathersit</th>\n",
       "      <th>temp</th>\n",
       "      <th>atemp</th>\n",
       "      <th>hum</th>\n",
       "      <th>windspeed</th>\n",
       "      <th>casual</th>\n",
       "      <th>registered</th>\n",
       "      <th>cnt</th>\n",
       "    </tr>\n",
       "  </thead>\n",
       "  <tbody>\n",
       "    <tr>\n",
       "      <th>0</th>\n",
       "      <td>1</td>\n",
       "      <td>2011-01-01</td>\n",
       "      <td>1</td>\n",
       "      <td>0</td>\n",
       "      <td>1</td>\n",
       "      <td>0</td>\n",
       "      <td>6</td>\n",
       "      <td>0</td>\n",
       "      <td>2</td>\n",
       "      <td>0.344167</td>\n",
       "      <td>0.363625</td>\n",
       "      <td>0.805833</td>\n",
       "      <td>0.160446</td>\n",
       "      <td>331</td>\n",
       "      <td>654</td>\n",
       "      <td>985</td>\n",
       "    </tr>\n",
       "    <tr>\n",
       "      <th>1</th>\n",
       "      <td>2</td>\n",
       "      <td>2011-01-02</td>\n",
       "      <td>1</td>\n",
       "      <td>0</td>\n",
       "      <td>1</td>\n",
       "      <td>0</td>\n",
       "      <td>0</td>\n",
       "      <td>0</td>\n",
       "      <td>2</td>\n",
       "      <td>0.363478</td>\n",
       "      <td>0.353739</td>\n",
       "      <td>0.696087</td>\n",
       "      <td>0.248539</td>\n",
       "      <td>131</td>\n",
       "      <td>670</td>\n",
       "      <td>801</td>\n",
       "    </tr>\n",
       "    <tr>\n",
       "      <th>2</th>\n",
       "      <td>3</td>\n",
       "      <td>2011-01-03</td>\n",
       "      <td>1</td>\n",
       "      <td>0</td>\n",
       "      <td>1</td>\n",
       "      <td>0</td>\n",
       "      <td>1</td>\n",
       "      <td>1</td>\n",
       "      <td>1</td>\n",
       "      <td>0.196364</td>\n",
       "      <td>0.189405</td>\n",
       "      <td>0.437273</td>\n",
       "      <td>0.248309</td>\n",
       "      <td>120</td>\n",
       "      <td>1229</td>\n",
       "      <td>1349</td>\n",
       "    </tr>\n",
       "    <tr>\n",
       "      <th>3</th>\n",
       "      <td>4</td>\n",
       "      <td>2011-01-04</td>\n",
       "      <td>1</td>\n",
       "      <td>0</td>\n",
       "      <td>1</td>\n",
       "      <td>0</td>\n",
       "      <td>2</td>\n",
       "      <td>1</td>\n",
       "      <td>1</td>\n",
       "      <td>0.200000</td>\n",
       "      <td>0.212122</td>\n",
       "      <td>0.590435</td>\n",
       "      <td>0.160296</td>\n",
       "      <td>108</td>\n",
       "      <td>1454</td>\n",
       "      <td>1562</td>\n",
       "    </tr>\n",
       "    <tr>\n",
       "      <th>4</th>\n",
       "      <td>5</td>\n",
       "      <td>2011-01-05</td>\n",
       "      <td>1</td>\n",
       "      <td>0</td>\n",
       "      <td>1</td>\n",
       "      <td>0</td>\n",
       "      <td>3</td>\n",
       "      <td>1</td>\n",
       "      <td>1</td>\n",
       "      <td>0.226957</td>\n",
       "      <td>0.229270</td>\n",
       "      <td>0.436957</td>\n",
       "      <td>0.186900</td>\n",
       "      <td>82</td>\n",
       "      <td>1518</td>\n",
       "      <td>1600</td>\n",
       "    </tr>\n",
       "  </tbody>\n",
       "</table>\n",
       "</div>"
      ],
      "text/plain": [
       "   instant      dteday  season  yr  mnth  holiday  weekday  workingday  \\\n",
       "0        1  2011-01-01       1   0     1        0        6           0   \n",
       "1        2  2011-01-02       1   0     1        0        0           0   \n",
       "2        3  2011-01-03       1   0     1        0        1           1   \n",
       "3        4  2011-01-04       1   0     1        0        2           1   \n",
       "4        5  2011-01-05       1   0     1        0        3           1   \n",
       "\n",
       "   weathersit      temp     atemp       hum  windspeed  casual  registered  \\\n",
       "0           2  0.344167  0.363625  0.805833   0.160446     331         654   \n",
       "1           2  0.363478  0.353739  0.696087   0.248539     131         670   \n",
       "2           1  0.196364  0.189405  0.437273   0.248309     120        1229   \n",
       "3           1  0.200000  0.212122  0.590435   0.160296     108        1454   \n",
       "4           1  0.226957  0.229270  0.436957   0.186900      82        1518   \n",
       "\n",
       "    cnt  \n",
       "0   985  \n",
       "1   801  \n",
       "2  1349  \n",
       "3  1562  \n",
       "4  1600  "
      ]
     },
     "execution_count": 7,
     "metadata": {},
     "output_type": "execute_result"
    }
   ],
   "source": [
    "print(daily.columns)\n",
    "daily.head()"
   ]
  },
  {
   "cell_type": "markdown",
   "metadata": {},
   "source": [
    "## Question 1.1"
   ]
  },
  {
   "cell_type": "markdown",
   "metadata": {},
   "source": [
    "### Question 1.1.1\n",
    "##### Plot the distribution of male to female riders for chicago.csv."
   ]
  },
  {
   "cell_type": "code",
   "execution_count": 8,
   "metadata": {},
   "outputs": [
    {
     "data": {
      "text/plain": [
       "<matplotlib.axes._subplots.AxesSubplot at 0x1a164e95c0>"
      ]
     },
     "execution_count": 8,
     "metadata": {},
     "output_type": "execute_result"
    },
    {
     "data": {
      "image/png": "[encoded data removed]",
      "text/plain": [
       "<Figure size 432x288 with 1 Axes>"
      ]
     },
     "metadata": {
      "needs_background": "light"
     },
     "output_type": "display_data"
    }
   ],
   "source": [
    "sns.countplot(chi['gender'])"
   ]
  },
  {
   "cell_type": "markdown",
   "metadata": {},
   "source": [
    "### Question 1.1.2\n",
    "##### Plot the distribution of the gender column for ny.csv."
   ]
  },
  {
   "cell_type": "code",
   "execution_count": 9,
   "metadata": {},
   "outputs": [
    {
     "data": {
      "text/plain": [
       "<matplotlib.axes._subplots.AxesSubplot at 0x1a16811c50>"
      ]
     },
     "execution_count": 9,
     "metadata": {},
     "output_type": "execute_result"
    },
    {
     "data": {
      "image/png": "[encoded data removed]",
      "text/plain": [
       "<Figure size 432x288 with 1 Axes>"
      ]
     },
     "metadata": {
      "needs_background": "light"
     },
     "output_type": "display_data"
    }
   ],
   "source": [
    "sns.countplot(ny['gender'])"
   ]
  },
  {
   "cell_type": "markdown",
   "metadata": {},
   "source": [
    "### Question 1.1.3\n",
    "##### Given the results in Chicago, make an educated guess as to the mapping from numerical value to Male/Female/Unspecified within the ny.csv dataset."
   ]
  },
  {
   "cell_type": "markdown",
   "metadata": {},
   "source": [
    "From the above charts, specifically using the Chicago male to female count plot, we can assume that for NYC, the group \"1\" represents males, the group \"2\" represents females, and the group \"0\" either means the gender wasn't recorded or the individual is non-binary."
   ]
  },
  {
   "cell_type": "markdown",
   "metadata": {},
   "source": [
    "### Question 1.1.4\n",
    "##### Plot the distribution of the birth years of bike renters in Chicago and NY."
   ]
  },
  {
   "cell_type": "code",
   "execution_count": 10,
   "metadata": {},
   "outputs": [
    {
     "data": {
      "text/plain": [
       "<matplotlib.legend.Legend at 0x1a1789ff98>"
      ]
     },
     "execution_count": 10,
     "metadata": {},
     "output_type": "execute_result"
    },
    {
     "data": {
      "image/png": "[encoded data removed]",
      "text/plain": [
       "<Figure size 432x288 with 1 Axes>"
      ]
     },
     "metadata": {
      "needs_background": "light"
     },
     "output_type": "display_data"
    }
   ],
   "source": [
    "ax = sns.distplot(chi['birthyear'].dropna(), label='Chicago', bins=20)\n",
    "ax = sns.distplot(ny['birth year'].dropna(), label='NYC', bins=20)\n",
    "plt.legend()"
   ]
  },
  {
   "cell_type": "code",
   "execution_count": 11,
   "metadata": {},
   "outputs": [
    {
     "data": {
      "text/plain": [
       "0.23769253164381474"
      ]
     },
     "execution_count": 11,
     "metadata": {},
     "output_type": "execute_result"
    }
   ],
   "source": [
    "np.count_nonzero(chi['birthyear'].isna()) / len(chi)"
   ]
  },
  {
   "cell_type": "markdown",
   "metadata": {},
   "source": [
    "### Question 1.1.5\n",
    "##### Discuss the results you observed in the age plots and whether this fits with your intuition. Would you remove any data? If so, why?"
   ]
  },
  {
   "cell_type": "markdown",
   "metadata": {},
   "source": [
    "Looking at the results above, we see that NYC has slightly older riders compared to Chicago. I believe this fits with my intuition because NYC is known as being a start-up/tech-hub, and it is likely that the bike rental idea has been around longer in this area than in Chicago, giving it time to permeate into different target audiences/age groups. In terms of removing data, I believe it depends on what the question at hand is. If we are targeting a particular group in our customer base (millenials, boomers, etc.), then we can remove all groups we aren't interested in. However, I believe we should keep the majority data and potentially remove extreme outliers if it heavily skews our analysis."
   ]
  },
  {
   "cell_type": "markdown",
   "metadata": {},
   "source": [
    "# Question 1.2"
   ]
  },
  {
   "cell_type": "markdown",
   "metadata": {},
   "source": [
    "### Question 1.2.1\n",
    "##### Plot the three distribution of trip duration in minutes across all three cities."
   ]
  },
  {
   "cell_type": "code",
   "execution_count": 12,
   "metadata": {},
   "outputs": [
    {
     "data": {
      "text/plain": [
       "<matplotlib.legend.Legend at 0x1a172605f8>"
      ]
     },
     "execution_count": 12,
     "metadata": {},
     "output_type": "execute_result"
    },
    {
     "data": {
      "image/png": "[encoded data removed]",
      "text/plain": [
       "<Figure size 432x288 with 1 Axes>"
      ]
     },
     "metadata": {
      "needs_background": "light"
     },
     "output_type": "display_data"
    }
   ],
   "source": [
    "ax = sns.distplot(chi['tripduration'].dropna(), label='Chicago')\n",
    "ax = sns.distplot(ny['tripduration'].dropna(), label='NYC')\n",
    "ax = sns.distplot(dc['Duration (ms)'].dropna() / 1000, label='DC')\n",
    "plt.legend()"
   ]
  },
  {
   "cell_type": "code",
   "execution_count": 13,
   "metadata": {},
   "outputs": [
    {
     "name": "stdout",
     "output_type": "stream",
     "text": [
      "Chicago max duration: 86365\n",
      "NYC max duration: 2363758\n",
      "DC max duration: 85350\n"
     ]
    }
   ],
   "source": [
    "print(\"Chicago max duration:\", max(chi['tripduration']))\n",
    "print(\"NYC max duration:\", max(ny['tripduration']))\n",
    "print(\"DC max duration:\", int(max(dc['Duration (ms)'] / 1000)))"
   ]
  },
  {
   "cell_type": "markdown",
   "metadata": {},
   "source": [
    "### Question 1.2.2\n",
    "##### Are the plots you generated useful? If not, plot them again so that the visualization is more useful."
   ]
  },
  {
   "cell_type": "markdown",
   "metadata": {},
   "source": [
    "From our current visualization, we see that its output is currently uninterpretable. From the print statements above, we can see that NYC has an extreme outlier that is causing this issue. In order to fix this, we have a couple of options. We can eliminate extreme outliers by either using the empirical rule or IQR method. Another option is to set a max threshold from observing the other maximum values, which are hovering around 87-90k seconds. However, we should really think about what 87-90K in seconds is, and if we convert that hours, that is a full day! Since the second option doesn't appear to be a viable option, I will try using the empirical rule.\n",
    "\n",
    "In addition, from a units stand-point, using seconds as the x-axis really does not help our visualization, as in this business and in everyday life, it is much easier to quantify trips by their time in minutes."
   ]
  },
  {
   "cell_type": "code",
   "execution_count": 14,
   "metadata": {},
   "outputs": [
    {
     "data": {
      "text/html": [
       "<div>\n",
       "<style scoped>\n",
       "    .dataframe tbody tr th:only-of-type {\n",
       "        vertical-align: middle;\n",
       "    }\n",
       "\n",
       "    .dataframe tbody tr th {\n",
       "        vertical-align: top;\n",
       "    }\n",
       "\n",
       "    .dataframe thead th {\n",
       "        text-align: right;\n",
       "    }\n",
       "</style>\n",
       "<table border=\"1\" class=\"dataframe\">\n",
       "  <thead>\n",
       "    <tr style=\"text-align: right;\">\n",
       "      <th></th>\n",
       "      <th>tripduration</th>\n",
       "      <th>Start date</th>\n",
       "      <th>End date</th>\n",
       "      <th>Start station number</th>\n",
       "      <th>Start station</th>\n",
       "      <th>End station number</th>\n",
       "      <th>End station</th>\n",
       "      <th>Bike number</th>\n",
       "      <th>Member Type</th>\n",
       "    </tr>\n",
       "  </thead>\n",
       "  <tbody>\n",
       "    <tr>\n",
       "      <th>0</th>\n",
       "      <td>427.387</td>\n",
       "      <td>3/31/2016 22:57</td>\n",
       "      <td>3/31/2016 23:04</td>\n",
       "      <td>31602</td>\n",
       "      <td>Park Rd &amp; Holmead Pl NW</td>\n",
       "      <td>31207</td>\n",
       "      <td>Georgia Ave and Fairmont St NW</td>\n",
       "      <td>W20842</td>\n",
       "      <td>Registered</td>\n",
       "    </tr>\n",
       "    <tr>\n",
       "      <th>1</th>\n",
       "      <td>587.551</td>\n",
       "      <td>3/31/2016 22:46</td>\n",
       "      <td>3/31/2016 22:56</td>\n",
       "      <td>31105</td>\n",
       "      <td>14th &amp; Harvard St NW</td>\n",
       "      <td>31266</td>\n",
       "      <td>11th &amp; M St NW</td>\n",
       "      <td>W21385</td>\n",
       "      <td>Registered</td>\n",
       "    </tr>\n",
       "    <tr>\n",
       "      <th>2</th>\n",
       "      <td>397.979</td>\n",
       "      <td>3/31/2016 22:46</td>\n",
       "      <td>3/31/2016 22:53</td>\n",
       "      <td>31634</td>\n",
       "      <td>3rd &amp; Tingey St SE</td>\n",
       "      <td>31108</td>\n",
       "      <td>4th &amp; M St SW</td>\n",
       "      <td>W00773</td>\n",
       "      <td>Registered</td>\n",
       "    </tr>\n",
       "    <tr>\n",
       "      <th>3</th>\n",
       "      <td>444.282</td>\n",
       "      <td>3/31/2016 22:42</td>\n",
       "      <td>3/31/2016 22:50</td>\n",
       "      <td>31200</td>\n",
       "      <td>Massachusetts Ave &amp; Dupont Circle NW</td>\n",
       "      <td>31201</td>\n",
       "      <td>15th &amp; P St NW</td>\n",
       "      <td>W21397</td>\n",
       "      <td>Registered</td>\n",
       "    </tr>\n",
       "    <tr>\n",
       "      <th>4</th>\n",
       "      <td>780.875</td>\n",
       "      <td>3/31/2016 22:21</td>\n",
       "      <td>3/31/2016 22:34</td>\n",
       "      <td>31203</td>\n",
       "      <td>14th &amp; Rhode Island Ave NW</td>\n",
       "      <td>31604</td>\n",
       "      <td>3rd &amp; H St NW</td>\n",
       "      <td>W00213</td>\n",
       "      <td>Registered</td>\n",
       "    </tr>\n",
       "  </tbody>\n",
       "</table>\n",
       "</div>"
      ],
      "text/plain": [
       "   tripduration       Start date         End date  Start station number  \\\n",
       "0       427.387  3/31/2016 22:57  3/31/2016 23:04                 31602   \n",
       "1       587.551  3/31/2016 22:46  3/31/2016 22:56                 31105   \n",
       "2       397.979  3/31/2016 22:46  3/31/2016 22:53                 31634   \n",
       "3       444.282  3/31/2016 22:42  3/31/2016 22:50                 31200   \n",
       "4       780.875  3/31/2016 22:21  3/31/2016 22:34                 31203   \n",
       "\n",
       "                          Start station  End station number  \\\n",
       "0               Park Rd & Holmead Pl NW               31207   \n",
       "1                  14th & Harvard St NW               31266   \n",
       "2                    3rd & Tingey St SE               31108   \n",
       "3  Massachusetts Ave & Dupont Circle NW               31201   \n",
       "4            14th & Rhode Island Ave NW               31604   \n",
       "\n",
       "                      End station Bike number Member Type  \n",
       "0  Georgia Ave and Fairmont St NW      W20842  Registered  \n",
       "1                  11th & M St NW      W21385  Registered  \n",
       "2                   4th & M St SW      W00773  Registered  \n",
       "3                  15th & P St NW      W21397  Registered  \n",
       "4                   3rd & H St NW      W00213  Registered  "
      ]
     },
     "execution_count": 14,
     "metadata": {},
     "output_type": "execute_result"
    }
   ],
   "source": [
    "# Lets clean the DC dataframe first by converting the column to seconds and changing its name\n",
    "dc['Duration (ms)'] = dc['Duration (ms)'] / 1000\n",
    "dc.rename({'Duration (ms)': 'tripduration'}, inplace=True, axis=1)\n",
    "dc.head()"
   ]
  },
  {
   "cell_type": "code",
   "execution_count": 15,
   "metadata": {},
   "outputs": [
    {
     "data": {
      "text/plain": [
       "(0, 16709.75257390131)"
      ]
     },
     "execution_count": 15,
     "metadata": {},
     "output_type": "execute_result"
    }
   ],
   "source": [
    "# Now, lets remove outliers using the empirical rule (combining all cities)\n",
    "\n",
    "all_trips = pd.concat([ny['tripduration'], chi['tripduration'], dc['tripduration']])\n",
    "\n",
    "mu = np.mean(all_trips)\n",
    "sd = np.std(all_trips)\n",
    "\n",
    "lower_bound = 0\n",
    "upper_bound = mu + 3*sd\n",
    "\n",
    "lower_bound, upper_bound"
   ]
  },
  {
   "cell_type": "markdown",
   "metadata": {},
   "source": [
    "### Plots by themselves"
   ]
  },
  {
   "cell_type": "code",
   "execution_count": 16,
   "metadata": {},
   "outputs": [
    {
     "data": {
      "text/plain": [
       "<matplotlib.legend.Legend at 0x1a174eef28>"
      ]
     },
     "execution_count": 16,
     "metadata": {},
     "output_type": "execute_result"
    },
    {
     "data": {
      "image/png": "[encoded data removed]",
      "text/plain": [
       "<Figure size 432x288 with 1 Axes>"
      ]
     },
     "metadata": {
      "needs_background": "light"
     },
     "output_type": "display_data"
    }
   ],
   "source": [
    "sns.distplot(chi[chi['tripduration'] < upper_bound].dropna()['tripduration'], label='Chicago')\n",
    "plt.legend()"
   ]
  },
  {
   "cell_type": "code",
   "execution_count": 17,
   "metadata": {},
   "outputs": [
    {
     "data": {
      "text/plain": [
       "<matplotlib.legend.Legend at 0x1a1937c5c0>"
      ]
     },
     "execution_count": 17,
     "metadata": {},
     "output_type": "execute_result"
    },
    {
     "data": {
      "image/png": "[encoded data removed]",
      "text/plain": [
       "<Figure size 432x288 with 1 Axes>"
      ]
     },
     "metadata": {
      "needs_background": "light"
     },
     "output_type": "display_data"
    }
   ],
   "source": [
    "sns.distplot(ny[ny['tripduration'] < upper_bound].dropna()['tripduration'], label='New York', color = 'orange')\n",
    "plt.legend()"
   ]
  },
  {
   "cell_type": "code",
   "execution_count": 18,
   "metadata": {},
   "outputs": [
    {
     "data": {
      "text/plain": [
       "<matplotlib.legend.Legend at 0x1a19cc7748>"
      ]
     },
     "execution_count": 18,
     "metadata": {},
     "output_type": "execute_result"
    },
    {
     "data": {
      "image/png": "[encoded data removed]",
      "text/plain": [
       "<Figure size 432x288 with 1 Axes>"
      ]
     },
     "metadata": {
      "needs_background": "light"
     },
     "output_type": "display_data"
    }
   ],
   "source": [
    "sns.distplot(dc[dc['tripduration'] < upper_bound].dropna()['tripduration'], label='DC', color = 'green')\n",
    "plt.legend()"
   ]
  },
  {
   "cell_type": "markdown",
   "metadata": {},
   "source": [
    "### Plots overlayed"
   ]
  },
  {
   "cell_type": "code",
   "execution_count": 19,
   "metadata": {},
   "outputs": [
    {
     "data": {
      "text/plain": [
       "<matplotlib.legend.Legend at 0x1a176cee10>"
      ]
     },
     "execution_count": 19,
     "metadata": {},
     "output_type": "execute_result"
    },
    {
     "data": {
      "image/png": "[encoded data removed]",
      "text/plain": [
       "<Figure size 432x288 with 1 Axes>"
      ]
     },
     "metadata": {
      "needs_background": "light"
     },
     "output_type": "display_data"
    }
   ],
   "source": [
    "ax = sns.distplot(chi[chi['tripduration'] < upper_bound].dropna()['tripduration'], label='Chicago')\n",
    "ax = sns.distplot(ny[ny['tripduration'] < upper_bound].dropna()['tripduration'], label='NYC')\n",
    "ax = sns.distplot(dc[dc['tripduration'] < upper_bound].dropna()['tripduration'], label='DC')\n",
    "plt.legend()"
   ]
  },
  {
   "cell_type": "markdown",
   "metadata": {},
   "source": [
    "### Question 1.2.3\n",
    "##### Plot the start time of trips split by hour for all three cities.\n",
    "\n",
    "First, I'll be converting the columns to datetimes."
   ]
  },
  {
   "cell_type": "code",
   "execution_count": 20,
   "metadata": {},
   "outputs": [],
   "source": [
    "chi['starttime'] = pd.to_datetime(chi['starttime'])\n",
    "ny['starttime'] = pd.to_datetime(ny['starttime'])\n",
    "dc['starttime'] = pd.to_datetime(dc['Start date'])\n",
    "\n",
    "chi['stoptime'] = pd.to_datetime(chi['stoptime'])\n",
    "ny['stoptime'] = pd.to_datetime(ny['stoptime'])\n",
    "dc['stoptime'] = pd.to_datetime(dc['End date'])\n",
    "\n",
    "dc.drop('Start date', axis=1, inplace=True)\n",
    "dc.drop('End date', axis=1, inplace=True)"
   ]
  },
  {
   "cell_type": "code",
   "execution_count": 21,
   "metadata": {},
   "outputs": [
    {
     "data": {
      "text/plain": [
       "<matplotlib.legend.Legend at 0x1a19e29dd8>"
      ]
     },
     "execution_count": 21,
     "metadata": {},
     "output_type": "execute_result"
    },
    {
     "data": {
      "image/png": "[encoded data removed]",
      "text/plain": [
       "<Figure size 432x288 with 1 Axes>"
      ]
     },
     "metadata": {
      "needs_background": "light"
     },
     "output_type": "display_data"
    }
   ],
   "source": [
    "ax = sns.distplot(chi['starttime'].dropna().dt.hour, label='Chicago')\n",
    "ax = sns.distplot(ny['starttime'].dropna().dt.hour, label='NYC')\n",
    "ax = sns.distplot(dc['starttime'].dropna().dt.hour, label='DC')\n",
    "plt.legend()"
   ]
  },
  {
   "cell_type": "markdown",
   "metadata": {},
   "source": [
    "### Question 1.2.4\n",
    "##### Discuss the results you observed in the start time plots. Do they fit your intuition?"
   ]
  },
  {
   "cell_type": "markdown",
   "metadata": {},
   "source": [
    "The plots above do fit my intuition for starttimes. Originally, I believed the following two things would be true:\n",
    "1. The plots would be nearly identical for all cities\n",
    "2. The plots would follow spikes that indicate start and end times for Americans' work schedules.\n",
    "\n",
    "However, one thing that did fit my intuition is that we see more bike rides in the late afternoon than early in the morning. I believe if we split the plots by weekdays and weekends, we'd see two different distributions -- where the weekday plot would have roughly equal proportions of rides in the early morning and late afternoon, whereas weekdays would be slightly different."
   ]
  },
  {
   "cell_type": "markdown",
   "metadata": {},
   "source": [
    "# Question 1.3"
   ]
  },
  {
   "cell_type": "markdown",
   "metadata": {},
   "source": [
    "### Question 1.3.1\n",
    "##### Visualize three more attributes"
   ]
  },
  {
   "cell_type": "markdown",
   "metadata": {},
   "source": [
    "#### Visualization #1: Distribution of Daily DC Temperature"
   ]
  },
  {
   "cell_type": "code",
   "execution_count": 22,
   "metadata": {},
   "outputs": [
    {
     "data": {
      "image/png": "[encoded data removed]",
      "text/plain": [
       "<Figure size 432x288 with 1 Axes>"
      ]
     },
     "metadata": {
      "needs_background": "light"
     },
     "output_type": "display_data"
    }
   ],
   "source": [
    "ax = sns.distplot(daily['temp'])"
   ]
  },
  {
   "cell_type": "markdown",
   "metadata": {},
   "source": [
    "#### Visualization #2: When do long bike rides start? Grouping by hour and getting the average duration for each city."
   ]
  },
  {
   "cell_type": "code",
   "execution_count": 23,
   "metadata": {},
   "outputs": [
    {
     "data": {
      "text/plain": [
       "<matplotlib.legend.Legend at 0x1a1ad9eef0>"
      ]
     },
     "execution_count": 23,
     "metadata": {},
     "output_type": "execute_result"
    },
    {
     "data": {
      "image/png": "[encoded data removed]",
      "text/plain": [
       "<Figure size 432x288 with 1 Axes>"
      ]
     },
     "metadata": {
      "needs_background": "light"
     },
     "output_type": "display_data"
    }
   ],
   "source": [
    "chi['start hour'] = chi['starttime'].dt.hour\n",
    "ny['start hour'] = ny['starttime'].dt.hour\n",
    "dc['start hour'] = dc['starttime'].dt.hour\n",
    "\n",
    "chi_hd = chi[['start hour', 'tripduration']].groupby('start hour').mean().reset_index()\n",
    "ny_hd = ny[['start hour', 'tripduration']].groupby('start hour').mean().reset_index()\n",
    "dc_hd = dc[['start hour', 'tripduration']].groupby('start hour').mean().reset_index()\n",
    "\n",
    "ax = plt.plot(chi_hd['start hour'], chi_hd['tripduration'], label='Chicago')\n",
    "ax = plt.plot(ny_hd['start hour'], ny_hd['tripduration'], label='NYC')\n",
    "ax = plt.plot(dc_hd['start hour'], dc_hd['tripduration'], label='DC')\n",
    "plt.legend()"
   ]
  },
  {
   "cell_type": "markdown",
   "metadata": {},
   "source": [
    "#### Visualization #3: What are most popular start stations in each city?"
   ]
  },
  {
   "cell_type": "code",
   "execution_count": 24,
   "metadata": {},
   "outputs": [
    {
     "data": {
      "text/plain": [
       "<matplotlib.axes._subplots.AxesSubplot at 0x1a1c7f2198>"
      ]
     },
     "execution_count": 24,
     "metadata": {},
     "output_type": "execute_result"
    },
    {
     "data": {
      "image/png": "[encoded data removed]",
      "text/plain": [
       "<Figure size 1440x720 with 1 Axes>"
      ]
     },
     "metadata": {
      "needs_background": "light"
     },
     "output_type": "display_data"
    }
   ],
   "source": [
    "plt.figure(figsize=(20,10))\n",
    "plt.title(\"New York City's Most Popular Start Stations\")\n",
    "ny.groupby('start station name').count()['bikeid'].sort_values(ascending=False)[0:5].plot.bar(x='Start Station Name', rot=0)"
   ]
  },
  {
   "cell_type": "code",
   "execution_count": 25,
   "metadata": {},
   "outputs": [
    {
     "name": "stdout",
     "output_type": "stream",
     "text": [
      "Index(['trip_id', 'starttime', 'stoptime', 'bikeid', 'tripduration',\n",
      "       'from_station_id', 'from_station_name', 'to_station_id',\n",
      "       'to_station_name', 'usertype', 'gender', 'birthyear', 'start hour'],\n",
      "      dtype='object')\n"
     ]
    }
   ],
   "source": [
    "print(chi.columns)"
   ]
  },
  {
   "cell_type": "code",
   "execution_count": 26,
   "metadata": {},
   "outputs": [
    {
     "data": {
      "text/plain": [
       "<matplotlib.axes._subplots.AxesSubplot at 0x1a1afa9a58>"
      ]
     },
     "execution_count": 26,
     "metadata": {},
     "output_type": "execute_result"
    },
    {
     "data": {
      "image/png": "[encoded data removed]",
      "text/plain": [
       "<Figure size 1440x720 with 1 Axes>"
      ]
     },
     "metadata": {
      "needs_background": "light"
     },
     "output_type": "display_data"
    }
   ],
   "source": [
    "plt.figure(figsize=(20,10))\n",
    "plt.title(\"Chicago's Most Popular Start Stations\")\n",
    "chi.groupby('from_station_name').count()['bikeid'].sort_values(ascending=False)[0:5].plot.bar(x='Start Station Name', rot=0)"
   ]
  },
  {
   "cell_type": "code",
   "execution_count": 27,
   "metadata": {},
   "outputs": [
    {
     "data": {
      "text/plain": [
       "Index(['tripduration', 'Start station number', 'Start station',\n",
       "       'End station number', 'End station', 'Bike number', 'Member Type',\n",
       "       'starttime', 'stoptime', 'start hour'],\n",
       "      dtype='object')"
      ]
     },
     "execution_count": 27,
     "metadata": {},
     "output_type": "execute_result"
    }
   ],
   "source": [
    "dc.columns"
   ]
  },
  {
   "cell_type": "code",
   "execution_count": 28,
   "metadata": {},
   "outputs": [
    {
     "data": {
      "text/plain": [
       "<matplotlib.axes._subplots.AxesSubplot at 0x1a1c176ba8>"
      ]
     },
     "execution_count": 28,
     "metadata": {},
     "output_type": "execute_result"
    },
    {
     "data": {
      "image/png": "[encoded data removed]",
      "text/plain": [
       "<Figure size 1440x720 with 1 Axes>"
      ]
     },
     "metadata": {
      "needs_background": "light"
     },
     "output_type": "display_data"
    }
   ],
   "source": [
    "plt.figure(figsize=(20,10))\n",
    "plt.title(\"DC's Most Popular Start Stations\")\n",
    "dc.groupby('Start station').count()['Bike number'].sort_values(ascending=False)[0:5].plot.bar(x='Start Station Name', rot=0)"
   ]
  },
  {
   "cell_type": "markdown",
   "metadata": {},
   "source": [
    "### Question 1.3.2\n",
    "##### Discuss any insight you obtained from these three new visualizations."
   ]
  },
  {
   "cell_type": "markdown",
   "metadata": {},
   "source": [
    "From the above plots, I was able to gain the following insight.\n",
    "\n",
    "**Visualization 1: Temperature in DC**\n",
    "In this visualization, we see that the distribution is bimodal, and signals to us that their could be another underlying distribution. My current idea is that it can separate the temperature into two groups: Summer + Fall (the higher temperatures), Winter + Spring (the lower temperatures). This can be a solid indicator when used as a feature in a model.\n",
    "\n",
    "**Visualization 2: When do long bike rides start?**\n",
    "Across all 3 cities, we see that the majority of long bike rides usually occur during working hours. I'd potentially like to further explore this visualization and see it broken down by user type. \n",
    "\n",
    "**Visualization 3: Most popular start stations for each city**\n",
    "This visualization overall lets us look at the most popular start stations for each city. This visualization alone can be of great use for companies, especially when it comes to advertising and partnering with companies."
   ]
  },
  {
   "cell_type": "markdown",
   "metadata": {},
   "source": [
    "### Question 1.3.3\n",
    "##### Pick one of the three attribute and plot its distribution if you haven’t already. Explore the data further to get a plausible explanation for the shape of the distribution. For example you could explore whether the attribute is correlated with another attribute."
   ]
  },
  {
   "cell_type": "markdown",
   "metadata": {},
   "source": [
    "#### Checking to see if two distributions are at play"
   ]
  },
  {
   "cell_type": "code",
   "execution_count": 29,
   "metadata": {},
   "outputs": [
    {
     "data": {
      "text/html": [
       "<div>\n",
       "<style scoped>\n",
       "    .dataframe tbody tr th:only-of-type {\n",
       "        vertical-align: middle;\n",
       "    }\n",
       "\n",
       "    .dataframe tbody tr th {\n",
       "        vertical-align: top;\n",
       "    }\n",
       "\n",
       "    .dataframe thead th {\n",
       "        text-align: right;\n",
       "    }\n",
       "</style>\n",
       "<table border=\"1\" class=\"dataframe\">\n",
       "  <thead>\n",
       "    <tr style=\"text-align: right;\">\n",
       "      <th></th>\n",
       "      <th>instant</th>\n",
       "      <th>dteday</th>\n",
       "      <th>season</th>\n",
       "      <th>yr</th>\n",
       "      <th>mnth</th>\n",
       "      <th>holiday</th>\n",
       "      <th>weekday</th>\n",
       "      <th>workingday</th>\n",
       "      <th>weathersit</th>\n",
       "      <th>temp</th>\n",
       "      <th>atemp</th>\n",
       "      <th>hum</th>\n",
       "      <th>windspeed</th>\n",
       "      <th>casual</th>\n",
       "      <th>registered</th>\n",
       "      <th>cnt</th>\n",
       "    </tr>\n",
       "  </thead>\n",
       "  <tbody>\n",
       "    <tr>\n",
       "      <th>0</th>\n",
       "      <td>1</td>\n",
       "      <td>2011-01-01</td>\n",
       "      <td>1</td>\n",
       "      <td>0</td>\n",
       "      <td>1</td>\n",
       "      <td>0</td>\n",
       "      <td>6</td>\n",
       "      <td>0</td>\n",
       "      <td>2</td>\n",
       "      <td>0.344167</td>\n",
       "      <td>0.363625</td>\n",
       "      <td>0.805833</td>\n",
       "      <td>0.160446</td>\n",
       "      <td>331</td>\n",
       "      <td>654</td>\n",
       "      <td>985</td>\n",
       "    </tr>\n",
       "    <tr>\n",
       "      <th>1</th>\n",
       "      <td>2</td>\n",
       "      <td>2011-01-02</td>\n",
       "      <td>1</td>\n",
       "      <td>0</td>\n",
       "      <td>1</td>\n",
       "      <td>0</td>\n",
       "      <td>0</td>\n",
       "      <td>0</td>\n",
       "      <td>2</td>\n",
       "      <td>0.363478</td>\n",
       "      <td>0.353739</td>\n",
       "      <td>0.696087</td>\n",
       "      <td>0.248539</td>\n",
       "      <td>131</td>\n",
       "      <td>670</td>\n",
       "      <td>801</td>\n",
       "    </tr>\n",
       "    <tr>\n",
       "      <th>2</th>\n",
       "      <td>3</td>\n",
       "      <td>2011-01-03</td>\n",
       "      <td>1</td>\n",
       "      <td>0</td>\n",
       "      <td>1</td>\n",
       "      <td>0</td>\n",
       "      <td>1</td>\n",
       "      <td>1</td>\n",
       "      <td>1</td>\n",
       "      <td>0.196364</td>\n",
       "      <td>0.189405</td>\n",
       "      <td>0.437273</td>\n",
       "      <td>0.248309</td>\n",
       "      <td>120</td>\n",
       "      <td>1229</td>\n",
       "      <td>1349</td>\n",
       "    </tr>\n",
       "    <tr>\n",
       "      <th>3</th>\n",
       "      <td>4</td>\n",
       "      <td>2011-01-04</td>\n",
       "      <td>1</td>\n",
       "      <td>0</td>\n",
       "      <td>1</td>\n",
       "      <td>0</td>\n",
       "      <td>2</td>\n",
       "      <td>1</td>\n",
       "      <td>1</td>\n",
       "      <td>0.200000</td>\n",
       "      <td>0.212122</td>\n",
       "      <td>0.590435</td>\n",
       "      <td>0.160296</td>\n",
       "      <td>108</td>\n",
       "      <td>1454</td>\n",
       "      <td>1562</td>\n",
       "    </tr>\n",
       "    <tr>\n",
       "      <th>4</th>\n",
       "      <td>5</td>\n",
       "      <td>2011-01-05</td>\n",
       "      <td>1</td>\n",
       "      <td>0</td>\n",
       "      <td>1</td>\n",
       "      <td>0</td>\n",
       "      <td>3</td>\n",
       "      <td>1</td>\n",
       "      <td>1</td>\n",
       "      <td>0.226957</td>\n",
       "      <td>0.229270</td>\n",
       "      <td>0.436957</td>\n",
       "      <td>0.186900</td>\n",
       "      <td>82</td>\n",
       "      <td>1518</td>\n",
       "      <td>1600</td>\n",
       "    </tr>\n",
       "  </tbody>\n",
       "</table>\n",
       "</div>"
      ],
      "text/plain": [
       "   instant      dteday  season  yr  mnth  holiday  weekday  workingday  \\\n",
       "0        1  2011-01-01       1   0     1        0        6           0   \n",
       "1        2  2011-01-02       1   0     1        0        0           0   \n",
       "2        3  2011-01-03       1   0     1        0        1           1   \n",
       "3        4  2011-01-04       1   0     1        0        2           1   \n",
       "4        5  2011-01-05       1   0     1        0        3           1   \n",
       "\n",
       "   weathersit      temp     atemp       hum  windspeed  casual  registered  \\\n",
       "0           2  0.344167  0.363625  0.805833   0.160446     331         654   \n",
       "1           2  0.363478  0.353739  0.696087   0.248539     131         670   \n",
       "2           1  0.196364  0.189405  0.437273   0.248309     120        1229   \n",
       "3           1  0.200000  0.212122  0.590435   0.160296     108        1454   \n",
       "4           1  0.226957  0.229270  0.436957   0.186900      82        1518   \n",
       "\n",
       "    cnt  \n",
       "0   985  \n",
       "1   801  \n",
       "2  1349  \n",
       "3  1562  \n",
       "4  1600  "
      ]
     },
     "execution_count": 29,
     "metadata": {},
     "output_type": "execute_result"
    }
   ],
   "source": [
    "daily.head()"
   ]
  },
  {
   "cell_type": "code",
   "execution_count": 30,
   "metadata": {},
   "outputs": [
    {
     "data": {
      "text/plain": [
       "<matplotlib.legend.Legend at 0x1a1c126f28>"
      ]
     },
     "execution_count": 30,
     "metadata": {},
     "output_type": "execute_result"
    },
    {
     "data": {
      "image/png": "[encoded data removed]",
      "text/plain": [
       "<Figure size 432x288 with 1 Axes>"
      ]
     },
     "metadata": {
      "needs_background": "light"
     },
     "output_type": "display_data"
    }
   ],
   "source": [
    "# 0 is winter or spring, 1 is summer or fall\n",
    "\n",
    "def seasonish(month):\n",
    "    if month > 5 and month < 11:\n",
    "        return 1\n",
    "    return 0\n",
    "\n",
    "daily['szn'] = daily['mnth'].apply(seasonish)\n",
    "\n",
    "w_s = daily[daily['szn'] == 0]['temp']\n",
    "s_f = daily[daily['szn'] == 1]['temp']\n",
    "\n",
    "ax = sns.distplot(w_s, label='Winter or Spring')\n",
    "ax = sns.distplot(s_f, label='Summer or Fall')\n",
    "plt.legend()"
   ]
  },
  {
   "cell_type": "markdown",
   "metadata": {},
   "source": [
    "#### Checking the correlaiton between temperature and proportion of casual riders"
   ]
  },
  {
   "cell_type": "code",
   "execution_count": 31,
   "metadata": {
    "scrolled": false
   },
   "outputs": [
    {
     "data": {
      "text/plain": [
       "Text(0, 0.5, 'Proportion of Casual Riders')"
      ]
     },
     "execution_count": 31,
     "metadata": {},
     "output_type": "execute_result"
    },
    {
     "data": {
      "image/png": "[encoded data removed]",
      "text/plain": [
       "<Figure size 432x288 with 1 Axes>"
      ]
     },
     "metadata": {
      "needs_background": "light"
     },
     "output_type": "display_data"
    }
   ],
   "source": [
    "ax = plt.scatter(daily['temp'], daily['casual']/daily['cnt'], color='orange')\n",
    "plt.title('Temperature vs. Proportion of Casual Riders')\n",
    "plt.xlabel('Temperature')\n",
    "plt.ylabel('Proportion of Casual Riders')"
   ]
  },
  {
   "cell_type": "markdown",
   "metadata": {},
   "source": [
    "#### Checking the correlaiton between temperature and proportion of casual riders, splitting by weekend and week day"
   ]
  },
  {
   "cell_type": "code",
   "execution_count": 32,
   "metadata": {},
   "outputs": [],
   "source": [
    "daily['Weekend'] = pd.to_datetime(daily['dteday']).dt.dayofweek\n",
    "daily['Weekend'] = daily['Weekend'].apply(lambda x: 1 if x >= 5 else 0)"
   ]
  },
  {
   "cell_type": "code",
   "execution_count": 33,
   "metadata": {},
   "outputs": [
    {
     "data": {
      "text/plain": [
       "Text(0, 0.5, 'Proportion of Casual Riders')"
      ]
     },
     "execution_count": 33,
     "metadata": {},
     "output_type": "execute_result"
    },
    {
     "data": {
      "image/png": "[encoded data removed]",
      "text/plain": [
       "<Figure size 432x288 with 1 Axes>"
      ]
     },
     "metadata": {
      "needs_background": "light"
     },
     "output_type": "display_data"
    }
   ],
   "source": [
    "weekend = daily[daily['Weekend'] == 1]\n",
    "weekday = daily[daily['Weekend'] == 0]\n",
    "\n",
    "ax = plt.scatter(weekend['temp'], weekend['casual']/weekend['cnt'], color='orange', label='Weekend')\n",
    "ax = plt.scatter(weekday['temp'], weekday['casual']/weekday['cnt'], color='blue', label='Weekday')\n",
    "plt.title('Temperature vs. Proportion of Casual Riders')\n",
    "plt.legend()\n",
    "plt.xlabel('Temperature')\n",
    "plt.ylabel('Proportion of Casual Riders')"
   ]
  },
  {
   "cell_type": "markdown",
   "metadata": {},
   "source": [
    "### Question 1.3.4\n",
    "##### Given the insights you obtained from the data, write down a hypothesis that you think is important and how you would go about testing it."
   ]
  },
  {
   "cell_type": "markdown",
   "metadata": {},
   "source": [
    "I believe a hypothesis that would be worth testing is whether or not the proportion of casual riders is affected by whether or not it is a weekend or weekday. In order to test this, I would run a random permutation hypothesis test 5000 times with the test statistic being the differences between the proportion of casual riders on weekends and the proportion of casual riders on weekdays.\n",
    "\n",
    "Null Hypothesis: In the population, the distribution of the proportion of casual riders is the same for weekends as for weekdays. The difference in the sample is due to chance.\n",
    "\n",
    "Alternative Hypothesis: In the population, the proportion of casual riders on weekends, on average, is greater than the proportion of casual riders on weekdays."
   ]
  },
  {
   "cell_type": "markdown",
   "metadata": {},
   "source": [
    "### Question 1.4"
   ]
  },
  {
   "cell_type": "code",
   "execution_count": 131,
   "metadata": {},
   "outputs": [],
   "source": [
    "from pandas.tseries.holiday import USFederalHolidayCalendar as calendar\n",
    "\n",
    "# Although some rides can start on one day and end on another, we will quantify day as being the starttime\n",
    "ny_matrix = []\n",
    "cols = ['dteday', 'season', 'yr', 'mnth', 'holiday', 'weekday', 'workingday', 'casual', 'registered', 'cnt']\n",
    "\n",
    "ny['day'] = ny['starttime'].dt.date\n",
    "\n",
    "ny_groups = ny.groupby('day')\n",
    "    \n",
    "def workingday(day_num):\n",
    "    if day_num != 0 and day_num != 6:\n",
    "        return 1\n",
    "    return 0\n",
    "\n",
    "    \n",
    "dr = pd.date_range(start='2016-01-01', end='2016-12-31')\n",
    "cal = calendar()\n",
    "holidays = cal.holidays(start=dr.min(), end=dr.max())\n",
    "    \n",
    "\n",
    "for group in ny_groups:\n",
    "    dteday = group[0]\n",
    "    data = group[1]\n",
    "    month = dteday.month\n",
    "    if dteday in holidays:\n",
    "        holiday = 1\n",
    "    else:\n",
    "        holiday = 0\n",
    "    season = (month%12 + 3)//3\n",
    "    weekday = dteday.weekday()\n",
    "    working_day = workingday(weekday)\n",
    "    yr = 0\n",
    "    casual = len(data[data['usertype'] == 'Customer'])\n",
    "    registered = len(data[data['usertype'] == 'Subscriber'])\n",
    "    cnt = casual + registered\n",
    "    ny_matrix.append([dteday, season, yr, month, holiday, weekday, working_day, casual, registered, cnt])"
   ]
  },
  {
   "cell_type": "code",
   "execution_count": 132,
   "metadata": {},
   "outputs": [
    {
     "data": {
      "text/html": [
       "<div>\n",
       "<style scoped>\n",
       "    .dataframe tbody tr th:only-of-type {\n",
       "        vertical-align: middle;\n",
       "    }\n",
       "\n",
       "    .dataframe tbody tr th {\n",
       "        vertical-align: top;\n",
       "    }\n",
       "\n",
       "    .dataframe thead th {\n",
       "        text-align: right;\n",
       "    }\n",
       "</style>\n",
       "<table border=\"1\" class=\"dataframe\">\n",
       "  <thead>\n",
       "    <tr style=\"text-align: right;\">\n",
       "      <th></th>\n",
       "      <th>dteday</th>\n",
       "      <th>season</th>\n",
       "      <th>yr</th>\n",
       "      <th>mnth</th>\n",
       "      <th>holiday</th>\n",
       "      <th>weekday</th>\n",
       "      <th>workingday</th>\n",
       "      <th>casual</th>\n",
       "      <th>registered</th>\n",
       "      <th>cnt</th>\n",
       "    </tr>\n",
       "  </thead>\n",
       "  <tbody>\n",
       "    <tr>\n",
       "      <th>0</th>\n",
       "      <td>2016-01-01</td>\n",
       "      <td>1</td>\n",
       "      <td>0</td>\n",
       "      <td>1</td>\n",
       "      <td>1</td>\n",
       "      <td>4</td>\n",
       "      <td>1</td>\n",
       "      <td>44</td>\n",
       "      <td>161</td>\n",
       "      <td>205</td>\n",
       "    </tr>\n",
       "    <tr>\n",
       "      <th>1</th>\n",
       "      <td>2016-01-02</td>\n",
       "      <td>1</td>\n",
       "      <td>0</td>\n",
       "      <td>1</td>\n",
       "      <td>0</td>\n",
       "      <td>5</td>\n",
       "      <td>1</td>\n",
       "      <td>53</td>\n",
       "      <td>254</td>\n",
       "      <td>307</td>\n",
       "    </tr>\n",
       "    <tr>\n",
       "      <th>2</th>\n",
       "      <td>2016-01-03</td>\n",
       "      <td>1</td>\n",
       "      <td>0</td>\n",
       "      <td>1</td>\n",
       "      <td>0</td>\n",
       "      <td>6</td>\n",
       "      <td>0</td>\n",
       "      <td>45</td>\n",
       "      <td>275</td>\n",
       "      <td>320</td>\n",
       "    </tr>\n",
       "    <tr>\n",
       "      <th>3</th>\n",
       "      <td>2016-01-04</td>\n",
       "      <td>1</td>\n",
       "      <td>0</td>\n",
       "      <td>1</td>\n",
       "      <td>0</td>\n",
       "      <td>0</td>\n",
       "      <td>0</td>\n",
       "      <td>22</td>\n",
       "      <td>402</td>\n",
       "      <td>424</td>\n",
       "    </tr>\n",
       "    <tr>\n",
       "      <th>4</th>\n",
       "      <td>2016-01-05</td>\n",
       "      <td>1</td>\n",
       "      <td>0</td>\n",
       "      <td>1</td>\n",
       "      <td>0</td>\n",
       "      <td>1</td>\n",
       "      <td>1</td>\n",
       "      <td>5</td>\n",
       "      <td>345</td>\n",
       "      <td>350</td>\n",
       "    </tr>\n",
       "  </tbody>\n",
       "</table>\n",
       "</div>"
      ],
      "text/plain": [
       "       dteday  season  yr  mnth  holiday  weekday  workingday  casual  \\\n",
       "0  2016-01-01       1   0     1        1        4           1      44   \n",
       "1  2016-01-02       1   0     1        0        5           1      53   \n",
       "2  2016-01-03       1   0     1        0        6           0      45   \n",
       "3  2016-01-04       1   0     1        0        0           0      22   \n",
       "4  2016-01-05       1   0     1        0        1           1       5   \n",
       "\n",
       "   registered  cnt  \n",
       "0         161  205  \n",
       "1         254  307  \n",
       "2         275  320  \n",
       "3         402  424  \n",
       "4         345  350  "
      ]
     },
     "execution_count": 132,
     "metadata": {},
     "output_type": "execute_result"
    }
   ],
   "source": [
    "ny_daily = pd.DataFrame(ny_matrix, columns=cols)\n",
    "ny_daily.head()"
   ]
  },
  {
   "cell_type": "code",
   "execution_count": 133,
   "metadata": {},
   "outputs": [],
   "source": [
    "from pandas.tseries.holiday import USFederalHolidayCalendar as calendar\n",
    "\n",
    "# Although some rides can start on one day and end on another, we will quantify day as being the starttime\n",
    "chi_matrix = []\n",
    "cols = ['dteday', 'season', 'yr', 'mnth', 'holiday', 'weekday', 'workingday', 'casual', 'registered', 'cnt']\n",
    "\n",
    "chi['day'] = chi['starttime'].dt.date\n",
    "\n",
    "chi_groups = chi.groupby('day')\n",
    "    \n",
    "def workingday(day_num):\n",
    "    if day_num != 0 and day_num != 6:\n",
    "        return 1\n",
    "    return 0\n",
    "\n",
    "    \n",
    "dr = pd.date_range(start='2016-01-01', end='2016-12-31')\n",
    "cal = calendar()\n",
    "holidays = cal.holidays(start=dr.min(), end=dr.max())\n",
    "    \n",
    "\n",
    "for group in chi_groups:\n",
    "    dteday = group[0]\n",
    "    data = group[1]\n",
    "    month = dteday.month\n",
    "    if dteday in holidays:\n",
    "        holiday = 1\n",
    "    else:\n",
    "        holiday = 0\n",
    "    season = (month%12 + 3)//3\n",
    "    weekday = dteday.weekday()\n",
    "    working_day = workingday(weekday)\n",
    "    yr = 0\n",
    "    casual = len(data[data['usertype'] == 'Customer'])\n",
    "    registered = len(data[data['usertype'] == 'Subscriber'])\n",
    "    cnt = casual + registered\n",
    "    chi_matrix.append([dteday, season, yr, month, holiday, weekday, working_day, casual, registered, cnt])"
   ]
  },
  {
   "cell_type": "code",
   "execution_count": 134,
   "metadata": {},
   "outputs": [
    {
     "data": {
      "text/html": [
       "<div>\n",
       "<style scoped>\n",
       "    .dataframe tbody tr th:only-of-type {\n",
       "        vertical-align: middle;\n",
       "    }\n",
       "\n",
       "    .dataframe tbody tr th {\n",
       "        vertical-align: top;\n",
       "    }\n",
       "\n",
       "    .dataframe thead th {\n",
       "        text-align: right;\n",
       "    }\n",
       "</style>\n",
       "<table border=\"1\" class=\"dataframe\">\n",
       "  <thead>\n",
       "    <tr style=\"text-align: right;\">\n",
       "      <th></th>\n",
       "      <th>dteday</th>\n",
       "      <th>season</th>\n",
       "      <th>yr</th>\n",
       "      <th>mnth</th>\n",
       "      <th>holiday</th>\n",
       "      <th>weekday</th>\n",
       "      <th>workingday</th>\n",
       "      <th>casual</th>\n",
       "      <th>registered</th>\n",
       "      <th>cnt</th>\n",
       "    </tr>\n",
       "  </thead>\n",
       "  <tbody>\n",
       "    <tr>\n",
       "      <th>0</th>\n",
       "      <td>2016-01-01</td>\n",
       "      <td>1</td>\n",
       "      <td>0</td>\n",
       "      <td>1</td>\n",
       "      <td>1</td>\n",
       "      <td>4</td>\n",
       "      <td>1</td>\n",
       "      <td>2</td>\n",
       "      <td>16</td>\n",
       "      <td>18</td>\n",
       "    </tr>\n",
       "    <tr>\n",
       "      <th>1</th>\n",
       "      <td>2016-01-02</td>\n",
       "      <td>1</td>\n",
       "      <td>0</td>\n",
       "      <td>1</td>\n",
       "      <td>0</td>\n",
       "      <td>5</td>\n",
       "      <td>1</td>\n",
       "      <td>1</td>\n",
       "      <td>16</td>\n",
       "      <td>17</td>\n",
       "    </tr>\n",
       "    <tr>\n",
       "      <th>2</th>\n",
       "      <td>2016-01-03</td>\n",
       "      <td>1</td>\n",
       "      <td>0</td>\n",
       "      <td>1</td>\n",
       "      <td>0</td>\n",
       "      <td>6</td>\n",
       "      <td>0</td>\n",
       "      <td>1</td>\n",
       "      <td>23</td>\n",
       "      <td>24</td>\n",
       "    </tr>\n",
       "    <tr>\n",
       "      <th>3</th>\n",
       "      <td>2016-01-04</td>\n",
       "      <td>1</td>\n",
       "      <td>0</td>\n",
       "      <td>1</td>\n",
       "      <td>0</td>\n",
       "      <td>0</td>\n",
       "      <td>0</td>\n",
       "      <td>1</td>\n",
       "      <td>76</td>\n",
       "      <td>77</td>\n",
       "    </tr>\n",
       "    <tr>\n",
       "      <th>4</th>\n",
       "      <td>2016-01-05</td>\n",
       "      <td>1</td>\n",
       "      <td>0</td>\n",
       "      <td>1</td>\n",
       "      <td>0</td>\n",
       "      <td>1</td>\n",
       "      <td>1</td>\n",
       "      <td>2</td>\n",
       "      <td>85</td>\n",
       "      <td>87</td>\n",
       "    </tr>\n",
       "  </tbody>\n",
       "</table>\n",
       "</div>"
      ],
      "text/plain": [
       "       dteday  season  yr  mnth  holiday  weekday  workingday  casual  \\\n",
       "0  2016-01-01       1   0     1        1        4           1       2   \n",
       "1  2016-01-02       1   0     1        0        5           1       1   \n",
       "2  2016-01-03       1   0     1        0        6           0       1   \n",
       "3  2016-01-04       1   0     1        0        0           0       1   \n",
       "4  2016-01-05       1   0     1        0        1           1       2   \n",
       "\n",
       "   registered  cnt  \n",
       "0          16   18  \n",
       "1          16   17  \n",
       "2          23   24  \n",
       "3          76   77  \n",
       "4          85   87  "
      ]
     },
     "execution_count": 134,
     "metadata": {},
     "output_type": "execute_result"
    }
   ],
   "source": [
    "dc_daily = pd.DataFrame(chi_matrix, columns=cols)\n",
    "dc_daily.head()"
   ]
  },
  {
   "cell_type": "code",
   "execution_count": 135,
   "metadata": {},
   "outputs": [
    {
     "name": "stdout",
     "output_type": "stream",
     "text": [
      "Index(['tripduration', 'Start station number', 'Start station',\n",
      "       'End station number', 'End station', 'Bike number', 'Member Type',\n",
      "       'starttime', 'stoptime', 'start hour', 'posterior', 'prediction',\n",
      "       'day'],\n",
      "      dtype='object')\n"
     ]
    }
   ],
   "source": [
    "from pandas.tseries.holiday import USFederalHolidayCalendar as calendar\n",
    "\n",
    "print(dc.columns)\n",
    "\n",
    "# Although some rides can start on one day and end on another, we will quantify day as being the starttime\n",
    "dc_matrix = []\n",
    "cols = ['dteday', 'season', 'yr', 'mnth', 'holiday', 'weekday', 'workingday', 'casual', 'registered', 'cnt']\n",
    "\n",
    "dc['day'] = dc['starttime'].dt.date\n",
    "\n",
    "dc_groups = dc.groupby('day')\n",
    "    \n",
    "def workingday(day_num):\n",
    "    if day_num != 0 and day_num != 6:\n",
    "        return 1\n",
    "    return 0\n",
    "\n",
    "    \n",
    "dr = pd.date_range(start='2016-01-01', end='2016-12-31')\n",
    "cal = calendar()\n",
    "holidays = cal.holidays(start=dr.min(), end=dr.max())\n",
    "    \n",
    "\n",
    "for group in dc_groups:\n",
    "    dteday = group[0]\n",
    "    data = group[1]\n",
    "    month = dteday.month\n",
    "    if dteday in holidays:\n",
    "        holiday = 1\n",
    "    else:\n",
    "        holiday = 0\n",
    "    season = (month%12 + 3)//3\n",
    "    weekday = dteday.weekday()\n",
    "    working_day = workingday(weekday)\n",
    "    yr = 0\n",
    "    casual = len(data[data['Member Type'] == 'Casual'])\n",
    "    registered = len(data[data['Member Type'] == 'Registered'])\n",
    "    cnt = casual + registered\n",
    "    dc_matrix.append([dteday, season, yr, month, holiday, weekday, working_day, casual, registered, cnt])"
   ]
  },
  {
   "cell_type": "code",
   "execution_count": 136,
   "metadata": {},
   "outputs": [
    {
     "data": {
      "text/html": [
       "<div>\n",
       "<style scoped>\n",
       "    .dataframe tbody tr th:only-of-type {\n",
       "        vertical-align: middle;\n",
       "    }\n",
       "\n",
       "    .dataframe tbody tr th {\n",
       "        vertical-align: top;\n",
       "    }\n",
       "\n",
       "    .dataframe thead th {\n",
       "        text-align: right;\n",
       "    }\n",
       "</style>\n",
       "<table border=\"1\" class=\"dataframe\">\n",
       "  <thead>\n",
       "    <tr style=\"text-align: right;\">\n",
       "      <th></th>\n",
       "      <th>dteday</th>\n",
       "      <th>season</th>\n",
       "      <th>yr</th>\n",
       "      <th>mnth</th>\n",
       "      <th>holiday</th>\n",
       "      <th>weekday</th>\n",
       "      <th>workingday</th>\n",
       "      <th>casual</th>\n",
       "      <th>registered</th>\n",
       "      <th>cnt</th>\n",
       "    </tr>\n",
       "  </thead>\n",
       "  <tbody>\n",
       "    <tr>\n",
       "      <th>0</th>\n",
       "      <td>2016-01-01</td>\n",
       "      <td>1</td>\n",
       "      <td>0</td>\n",
       "      <td>1</td>\n",
       "      <td>1</td>\n",
       "      <td>4</td>\n",
       "      <td>1</td>\n",
       "      <td>18</td>\n",
       "      <td>41</td>\n",
       "      <td>59</td>\n",
       "    </tr>\n",
       "    <tr>\n",
       "      <th>1</th>\n",
       "      <td>2016-01-02</td>\n",
       "      <td>1</td>\n",
       "      <td>0</td>\n",
       "      <td>1</td>\n",
       "      <td>0</td>\n",
       "      <td>5</td>\n",
       "      <td>1</td>\n",
       "      <td>32</td>\n",
       "      <td>77</td>\n",
       "      <td>109</td>\n",
       "    </tr>\n",
       "    <tr>\n",
       "      <th>2</th>\n",
       "      <td>2016-01-03</td>\n",
       "      <td>1</td>\n",
       "      <td>0</td>\n",
       "      <td>1</td>\n",
       "      <td>0</td>\n",
       "      <td>6</td>\n",
       "      <td>0</td>\n",
       "      <td>23</td>\n",
       "      <td>73</td>\n",
       "      <td>96</td>\n",
       "    </tr>\n",
       "    <tr>\n",
       "      <th>3</th>\n",
       "      <td>2016-01-04</td>\n",
       "      <td>1</td>\n",
       "      <td>0</td>\n",
       "      <td>1</td>\n",
       "      <td>0</td>\n",
       "      <td>0</td>\n",
       "      <td>0</td>\n",
       "      <td>6</td>\n",
       "      <td>101</td>\n",
       "      <td>107</td>\n",
       "    </tr>\n",
       "    <tr>\n",
       "      <th>4</th>\n",
       "      <td>2016-01-05</td>\n",
       "      <td>1</td>\n",
       "      <td>0</td>\n",
       "      <td>1</td>\n",
       "      <td>0</td>\n",
       "      <td>1</td>\n",
       "      <td>1</td>\n",
       "      <td>4</td>\n",
       "      <td>83</td>\n",
       "      <td>87</td>\n",
       "    </tr>\n",
       "  </tbody>\n",
       "</table>\n",
       "</div>"
      ],
      "text/plain": [
       "       dteday  season  yr  mnth  holiday  weekday  workingday  casual  \\\n",
       "0  2016-01-01       1   0     1        1        4           1      18   \n",
       "1  2016-01-02       1   0     1        0        5           1      32   \n",
       "2  2016-01-03       1   0     1        0        6           0      23   \n",
       "3  2016-01-04       1   0     1        0        0           0       6   \n",
       "4  2016-01-05       1   0     1        0        1           1       4   \n",
       "\n",
       "   registered  cnt  \n",
       "0          41   59  \n",
       "1          77  109  \n",
       "2          73   96  \n",
       "3         101  107  \n",
       "4          83   87  "
      ]
     },
     "execution_count": 136,
     "metadata": {},
     "output_type": "execute_result"
    }
   ],
   "source": [
    "dc_daily = pd.DataFrame(dc_matrix, columns=cols)\n",
    "dc_daily.head()"
   ]
  },
  {
   "cell_type": "code",
   "execution_count": 139,
   "metadata": {},
   "outputs": [
    {
     "data": {
      "text/plain": [
       "0.28014207302659266"
      ]
     },
     "execution_count": 139,
     "metadata": {},
     "output_type": "execute_result"
    }
   ],
   "source": [
    "np.mean(chi_daily['casual'] / chi_daily['registered'])"
   ]
  },
  {
   "cell_type": "markdown",
   "metadata": {},
   "source": [
    "I chose this exercise because I enjoyed doing these data engineering-esque tasks for my job over the summer.\n",
    "\n",
    "For my creation procude, I used a variety of creative methods. First, I created a function to assign season with using any boolean checks and instead only used modulo and floor division. Second, I imported holiday dates from the pandas library in order to assign the holiday column. After this, I grouped by the day for all rides and iterated through each group in order to assign their respective values. Overall, I was able to see that in NY was by far the most popular in terms of ride shares per day, but this could obviously be due to its large population. In addition, Chicago's proportion of casual riders to registered riders is very low, as the average ratio between the two was roughly .28."
   ]
  },
  {
   "cell_type": "markdown",
   "metadata": {},
   "source": [
    "# Question 2"
   ]
  },
  {
   "cell_type": "markdown",
   "metadata": {},
   "source": [
    "### Question 2.1\n",
    "##### Use S1 to train a logistic regression model for predicting Yi from Xi according to the above model. Denote by θ∗ the learned value of θ. Consider using methods available in sklearn."
   ]
  },
  {
   "cell_type": "code",
   "execution_count": 36,
   "metadata": {},
   "outputs": [],
   "source": [
    "from sklearn.linear_model import LogisticRegression\n",
    "\n",
    "features = ['tripduration', 'starttime', 'stoptime']\n",
    "target = 'User'\n",
    "\n",
    "def label(user_type):\n",
    "    if user_type == 'Customer':\n",
    "        return 0\n",
    "    return 1\n",
    "\n",
    "ny['User'] = ny['usertype'].apply(label)\n",
    "\n",
    "s1, s2, s3 = np.split(ny.sample(frac=1), [int(.6*len(ny)), int(.8*len(ny))])\n",
    "\n",
    "s1['starttime'] = s1['starttime'].dt.hour\n",
    "s2['starttime'] = s2['starttime'].dt.hour\n",
    "s3['starttime'] = s3['starttime'].dt.hour\n",
    "\n",
    "s1['stoptime'] = s1['stoptime'].dt.hour\n",
    "s2['stoptime'] = s2['stoptime'].dt.hour\n",
    "s3['stoptime'] = s3['stoptime'].dt.hour\n",
    "\n",
    "X_s1, y_s1 = s1[features], s1[target]\n",
    "X_s2, y_s2 = s2[features], s2[target]\n",
    "X_s3, y_s3 = s3[features], s3[target]"
   ]
  },
  {
   "cell_type": "code",
   "execution_count": 37,
   "metadata": {},
   "outputs": [
    {
     "name": "stderr",
     "output_type": "stream",
     "text": [
      "/Users/tannerarrizabalaga/anaconda3/lib/python3.7/site-packages/sklearn/linear_model/logistic.py:433: FutureWarning: Default solver will be changed to 'lbfgs' in 0.22. Specify a solver to silence this warning.\n",
      "  FutureWarning)\n"
     ]
    }
   ],
   "source": [
    "clf = LogisticRegression()\n",
    "clf.fit(X_s1, y_s1)\n",
    "\n",
    "theta_star = clf.coef_"
   ]
  },
  {
   "cell_type": "markdown",
   "metadata": {},
   "source": [
    "### Question 2.2\n",
    "##### Plot two histograms: one of null p-values (Yi = 0, casual riders) and one of non-null p-values (Yi = 1, non-casual riders). What do you observe?"
   ]
  },
  {
   "cell_type": "code",
   "execution_count": 38,
   "metadata": {},
   "outputs": [],
   "source": [
    "s2_probs = pd.DataFrame(clf.predict_proba(X_s2)[:, 1])\n",
    "s2_probs.index = X_s2.index\n",
    "s3_probs = pd.DataFrame(clf.predict_proba(X_s3)[:, 1])\n",
    "s3_probs.index = X_s3.index\n",
    "\n",
    "full_set = np.append(features, target)\n",
    "s2_cas = s2[full_set]\n",
    "s2_cas = s2_cas[s2_cas['User'] == 0]"
   ]
  },
  {
   "cell_type": "code",
   "execution_count": 150,
   "metadata": {},
   "outputs": [],
   "source": [
    "# Run later, takes too long\n",
    "s2_cas_probs = clf.predict_proba(s2_cas[features])\n",
    "\n",
    "s2_cas_card = len(s2_cas)\n",
    "\n",
    "casual_p_values = []\n",
    "\n",
    "for s_j in s3_probs[0]:\n",
    "    comparisons = np.count_nonzero(s2_cas_probs[:, 1] > s_j)\n",
    "    #comparisons = [1 if s_i > s_j else 0 for s_i in s2_cas_probs[:, 1]]\n",
    "    casual_p_values.append(np.sum(comparisons)/s2_cas_card)"
   ]
  },
  {
   "cell_type": "code",
   "execution_count": 40,
   "metadata": {},
   "outputs": [
    {
     "data": {
      "text/plain": [
       "(array([15807.,  5595.,  5512.,  6188.,  6404.,  5370.,  3437.,  2707.,\n",
       "         2858.,  1482.]),\n",
       " array([0. , 0.1, 0.2, 0.3, 0.4, 0.5, 0.6, 0.7, 0.8, 0.9, 1. ]),\n",
       " <a list of 10 Patch objects>)"
      ]
     },
     "execution_count": 40,
     "metadata": {},
     "output_type": "execute_result"
    },
    {
     "data": {
      "image/png": "[encoded data removed]",
      "text/plain": [
       "<Figure size 432x288 with 1 Axes>"
      ]
     },
     "metadata": {
      "needs_background": "light"
     },
     "output_type": "display_data"
    }
   ],
   "source": [
    "plt.hist(casual_p_values)"
   ]
  },
  {
   "cell_type": "code",
   "execution_count": 41,
   "metadata": {},
   "outputs": [],
   "source": [
    "cas_pval_pd = pd.DataFrame([casual_p_values, y_s3]).T"
   ]
  },
  {
   "cell_type": "code",
   "execution_count": 42,
   "metadata": {},
   "outputs": [
    {
     "data": {
      "image/png": "[encoded data removed]",
      "text/plain": [
       "<Figure size 432x288 with 1 Axes>"
      ]
     },
     "metadata": {
      "needs_background": "light"
     },
     "output_type": "display_data"
    }
   ],
   "source": [
    "fig, ax = plt.subplots()\n",
    "\n",
    "ax.hist(cas_pval_pd[cas_pval_pd[1] == 0][0], color='blue', label='Casual', alpha=0.5)\n",
    "ax.hist(cas_pval_pd[cas_pval_pd[1] == 1][0], color='orange', label='Subsciber', alpha=0.3)\n",
    "ax.legend()\n",
    "plt.xlabel('P-value')\n",
    "plt.show()"
   ]
  },
  {
   "cell_type": "markdown",
   "metadata": {},
   "source": [
    "### Question 2.3\n",
    "##### Run the Benjamini-Hochberg algorithm under level 0.2 on these p-values, and compute the false discovery proportion (FDP) and sensitivity. Report the average FDP and sensitivity over these 200 trials. Is the average FDP above or below 0.2? Can you explain why it is or isn’t?"
   ]
  },
  {
   "cell_type": "code",
   "execution_count": 175,
   "metadata": {},
   "outputs": [
    {
     "name": "stdout",
     "output_type": "stream",
     "text": [
      "0.040811294962274355 0.011967491585655823\n"
     ]
    }
   ],
   "source": [
    "def benjamini_hochberg(p_values, alpha, labels):\n",
    "    # returns decisions: a binary vector of the same length as p-values, \n",
    "    # where decisions[i] is 1 if p_values[i] is deemed significant at level alpha, and 0 otherwize\n",
    "    \n",
    "    # TODO: fill in\n",
    "    p = np.sort(p_values)\n",
    "    n = len(p)\n",
    "    output = []\n",
    "    for k in np.arange(n):\n",
    "        if p[k] <= k*(alpha/n):\n",
    "            output.append(k)\n",
    "    if len(output) == 0:\n",
    "        return []\n",
    "    threshold = max(output)\n",
    "    decisions = p_values <= p[threshold]\n",
    "    \n",
    "    n01, n11, n10 = 0, 0, 0\n",
    "    \n",
    "    for i in np.arange(len(decisions)):\n",
    "        if decisions[i] == 1 and labels[i] == 1:\n",
    "            n11 += 1\n",
    "        elif decisions[i] == 1 and labels[i] == 0:\n",
    "            n01 += 1\n",
    "        elif decisions[i] == 0 and labels[i] == 1:\n",
    "            n10 += 1\n",
    "    \n",
    "    fdp = n01 / (n01 + n11)\n",
    "    sens = n11 / (n10 + n11)\n",
    "    \n",
    "    return fdp, sens\n",
    "\n",
    "fdr_vals = []\n",
    "sens_vals = []\n",
    "\n",
    "for trial in range(200):\n",
    "    #Split data\n",
    "    s1, s2, s3 = np.split(ny.sample(frac=1), [int(.6*len(ny)), int(.8*len(ny))])\n",
    "\n",
    "    s1['starttime'] = s1['starttime'].dt.hour\n",
    "    s2['starttime'] = s2['starttime'].dt.hour\n",
    "    s3['starttime'] = s3['starttime'].dt.hour\n",
    "\n",
    "    s1['stoptime'] = s1['stoptime'].dt.hour\n",
    "    s2['stoptime'] = s2['stoptime'].dt.hour\n",
    "    s3['stoptime'] = s3['stoptime'].dt.hour\n",
    "\n",
    "    X_s1, y_s1 = s1[features], s1[target]\n",
    "    X_s2, y_s2 = s2[features], s2[target]\n",
    "    X_s3, y_s3 = s3[features], s3[target]\n",
    "    \n",
    "    #Train LogisticRegression model\n",
    "    clf = LogisticRegression(solver='lbfgs')\n",
    "    clf.fit(X_s1, y_s1)\n",
    "    \n",
    "    #Get s2, s2_0, and s3 probabilities\n",
    "    s2_probs = pd.DataFrame(clf.predict_proba(X_s2)[:, 1])\n",
    "    s2_probs.index = X_s2.index\n",
    "    s3_probs = pd.DataFrame(clf.predict_proba(X_s3)[:, 1])\n",
    "    s3_probs.index = X_s3.index\n",
    "\n",
    "    full_set = np.append(features, target)\n",
    "    s2_cas = s2[full_set]\n",
    "    s2_cas = s2_cas[s2_cas['User'] == 0]\n",
    "    \n",
    "    s2_cas_probs = clf.predict_proba(s2_cas[features])\n",
    "\n",
    "    #Populate casual p values\n",
    "    s2_cas_card = len(s2_cas)\n",
    "\n",
    "    casual_p_values = []\n",
    "\n",
    "    for s_j in s3_probs[0]:\n",
    "        comparisons = np.count_nonzero(s2_cas_probs[:, 1] > s_j)\n",
    "        # comparisons = [1 if s_i > s_j else 0 for s_i in s2_cas_probs[:, 1]]\n",
    "        casual_p_values.append(np.sum(comparisons)/s2_cas_card)\n",
    "        \n",
    "    #Find sensitivity and FDR\n",
    "    cas_pval_pd = pd.DataFrame([casual_p_values, y_s3]).T\n",
    "    cas_pval_pd.columns = ['p-value', 'label']\n",
    "    \n",
    "    fdr, sens = benjamini_hochberg(cas_pval_pd['p-value'].values, .2, cas_pval_pd['label'].values)\n",
    "    fdr_vals.append(fdr)\n",
    "    sens_vals.append(sens)\n",
    "    \n",
    "print(np.mean(fdr_vals), np.mean(sens_vals))"
   ]
  },
  {
   "cell_type": "markdown",
   "metadata": {},
   "source": [
    "From the above, we see that our average FDR for our trials .04 (below .2) while our average sensitivity was roughly .01. The main reason why our average FDR is below .2 is because of the core functionalities of the BH procedure. As we proved in a previous homework, BH controls FDR under level $\\alpha$, and since we chose $\\alpha$ to be .2, we obtained an average FDR below that level."
   ]
  },
  {
   "cell_type": "markdown",
   "metadata": {},
   "source": [
    "# Question 3"
   ]
  },
  {
   "cell_type": "markdown",
   "metadata": {},
   "source": [
    "### Question 3.1\n",
    "##### Describe why it is reasonable to believe that should be a difference in the distributions of trip durations of subscribers and non-subscribed customers. Use figures from the data to back up your argument."
   ]
  },
  {
   "cell_type": "markdown",
   "metadata": {},
   "source": [
    "It is reasonable to believe that there should be a difference in trip duration distributions because usually, the casual driver will convert to becoming a subscribed rider for one (or a couple) specific reason(s). The main two reasons that come to mind are the following: 1. the rider wants a better experience overall and/or 2. the rider uses the service very often and wants a reduction in cost. The first reason is not possible for this dataset, as both casual and subscribed riders receive the same bike, but the second reason is very likely -- especially for those who bike to work everyday.\n",
    "\n",
    "On the same point of motivations behind conversion, some riders may want to stay casual because there is no need for them to use a bike on a constant basis. Maybe they just want to bike as a hoby/leisure activity, and this line of thought is well-supported by the data, as casual riders tend to have longer rides while subscribed riders have shorter drives (likely that subscribed bikers are riding to work, where the duration shuold not be long)."
   ]
  },
  {
   "cell_type": "code",
   "execution_count": 50,
   "metadata": {},
   "outputs": [
    {
     "name": "stdout",
     "output_type": "stream",
     "text": [
      "Casual Mean & Standard Deviation in Seconds: (1373.470431809548, 707.2077323303444)\n",
      "Subscriber Mean & Standard Deviation in Seconds: (684.2110936815993, 435.4769085681167)\n"
     ]
    },
    {
     "data": {
      "image/png": "[encoded data removed]",
      "text/plain": [
       "<Figure size 432x288 with 1 Axes>"
      ]
     },
     "metadata": {
      "needs_background": "light"
     },
     "output_type": "display_data"
    }
   ],
   "source": [
    "cust_time = chi[(chi['tripduration'] < 3600) & (chi['usertype'] == 'Customer')]['tripduration'].dropna()\n",
    "sub_time = chi[(chi['tripduration'] < 3600) & (chi['usertype'] == 'Subscriber')]['tripduration'].dropna()\n",
    "\n",
    "ax = sns.distplot(cust_time, label='Casual')\n",
    "ax = sns.distplot(sub_time, label='Subscribers')\n",
    "plt.legend()\n",
    "\n",
    "print(\"Casual Mean & Standard Deviation in Seconds:\", (np.mean(cust_time), np.std(cust_time)))\n",
    "print(\"Subscriber Mean & Standard Deviation in Seconds:\", (np.mean(sub_time), np.std(sub_time)))"
   ]
  },
  {
   "cell_type": "markdown",
   "metadata": {},
   "source": [
    "### Question 3.2\n",
    "##### Use the Expectation-Maximization (E-M) Algorithm to learn a mixture of two Gaussians that describes the distribution trip-durations of length less than one hour in the chicago.csv dataset. Run this multiple times from different initializations. Do your results change drastically depending on the initialization? What are the means and variances of the fitted Gaussians?"
   ]
  },
  {
   "cell_type": "code",
   "execution_count": 54,
   "metadata": {},
   "outputs": [],
   "source": [
    "sigma_0 = 435\n",
    "sigma_1 = 707\n",
    "\n",
    "def gmm_expectation_maximization(data, pi_0, mu_0, pi_1, mu_1, num_steps):\n",
    "    \"\"\" Perform expectation maximization assuming a Gaussian mixture model consisting of two Gaussians.\n",
    "    \n",
    "    Parameters\n",
    "    ----------\n",
    "    data : numpy array of shape n\n",
    "        The matrix of datapoints we've observed.\n",
    "    pi_0 : float\n",
    "        Our initial estimate of pi_0.\n",
    "    mu_0 : float\n",
    "        Our initial estimate of mu_0.\n",
    "    pi_1 : float\n",
    "        Our initial estimate of pi_1.\n",
    "    mu_1 : float\n",
    "        Our initial estimate of mu_1.\n",
    "    num_steps : int\n",
    "        The number of times to run the expectation maximization.\n",
    "    \"\"\"\n",
    "    print(pi_0, mu_0, pi_1, mu_1)\n",
    "    for step in range(num_steps):\n",
    "        # First run the expectation step.\n",
    "        gaussian_prob_0 = (np.exp(-(data - mu_0) ** 2 / (2 * sigma_0)) /\n",
    "                           (np.sqrt(2 * np.pi) * sigma_0))\n",
    "        gaussian_prob_1 = (np.exp(-(data - mu_1) ** 2 / (2 * sigma_1)) /\n",
    "                           (np.sqrt(2 * np.pi) * sigma_1))\n",
    "        normalizing_factor = pi_0 * gaussian_prob_0 + pi_1 * gaussian_prob_1\n",
    "        # z_k is the vector of estimated probabilities that each datapoint i\n",
    "        # belongs to the distribution k. In other words the ith index is an\n",
    "        # estimate of P(K=k|x_i).\n",
    "        z_0 = pi_0 * gaussian_prob_0 / normalizing_factor\n",
    "        z_1 = pi_1 * gaussian_prob_1 / normalizing_factor\n",
    "        \n",
    "        # Now run the maximization step.\n",
    "        # N_k is the estimated number of points assigned to the distribution k.\n",
    "        N_0 = np.sum(z_0)\n",
    "        N_1 = np.sum(z_1)\n",
    "        pi_0 = N_0 / data.shape[0]\n",
    "        pi_1 = N_1 / data.shape[0]\n",
    "        mu_0 = np.sum(data*z_0)/np.sum(z_0)\n",
    "        mu_1 = np.sum(data*z_1)/np.sum(z_1)\n",
    "        \n",
    "    return pi_0, mu_0, sigma_0, pi_1, mu_1, sigma_1"
   ]
  },
  {
   "cell_type": "code",
   "execution_count": 56,
   "metadata": {},
   "outputs": [
    {
     "name": "stdout",
     "output_type": "stream",
     "text": [
      "0.8 650 0.2 1400\n",
      "---Running with the initial params---\n",
      "pi_0=.3, mu_0=800, sigma_0=479.38 | pi_1=.7, mu_1=2000, sigma_1=1284.82\n",
      "---Distribution 0 Estimated Parameters---\n",
      "pi_0=0.5873, mu_0=456.20, sigma_0=435.00\n",
      "---Distribution 1 Estimated Parameters---\n",
      "pi_1=0.3843, mu_1=1275.49, sigma_1=707.00\n"
     ]
    }
   ],
   "source": [
    "one_hour = chi[chi['tripduration'] < 3600]['tripduration']\n",
    "\n",
    "pi_0, mu_0, sigma_0, pi_1, mu_1, sigma_1 = gmm_expectation_maximization(data=one_hour,\n",
    "                                                                        pi_0= .8,\n",
    "                                                                        mu_0= 650,\n",
    "                                                                        pi_1= .2,\n",
    "                                                                        mu_1= 1400,\n",
    "                                                                        num_steps=100)\n",
    "\n",
    "# Print the estimated parameters for both distributions.\n",
    "print('---Running with the initial params---')\n",
    "print(\"pi_0=.3, mu_0=800, sigma_0=479.38 | pi_1=.7, mu_1=2000, sigma_1=1284.82\")\n",
    "print(\"---Distribution 0 Estimated Parameters---\")\n",
    "print(\"pi_0={:.4f}, mu_0={:.2f}, sigma_0={:.2f}\".format(pi_0, mu_0, sigma_0))\n",
    "print(\"---Distribution 1 Estimated Parameters---\")\n",
    "print(\"pi_1={:.4f}, mu_1={:.2f}, sigma_1={:.2f}\".format(pi_1, mu_1, sigma_1))"
   ]
  },
  {
   "cell_type": "markdown",
   "metadata": {},
   "source": [
    "From the several initilizations I ran, our results do not change drastically at all -- in fact, no matter what initial values I gave, the GMM return the same estimated parameteres every time. I believe this is because our number of steps was really high for such a small dataset. The fitted mean and variance for distribution 0 was 456.20 and 435.00 respecitively, and the fitted mean and variance for distribution 1 was 1275.49 and 707.00 respectively."
   ]
  },
  {
   "cell_type": "markdown",
   "metadata": {},
   "source": [
    "### Question 3.3\n",
    "##### Given the output of the E-M Algorithm, which of the distributions captures the behavior of the subscribed customers? For each customer, in the dataset, calculate the posterior probability that the customer is from this distribution."
   ]
  },
  {
   "cell_type": "markdown",
   "metadata": {},
   "source": [
    "Given the output of the E-M algorithm, it appears that distribution 0 captures the behavior of a subscribed customer."
   ]
  },
  {
   "cell_type": "code",
   "execution_count": 63,
   "metadata": {},
   "outputs": [],
   "source": [
    "import scipy.stats\n",
    "\n",
    "def posterior_prob(x):\n",
    "    return (0.5873 * scipy.stats.norm.pdf(x, 456.20, 435)) / ((0.5873 * scipy.stats.norm.pdf(x, 456.20, 435)) + (0.3843 * scipy.stats.norm.pdf(x, 1275.49, 707)))\n",
    "\n",
    "chi['posterior'] = chi['tripduration'].apply(posterior_prob)"
   ]
  },
  {
   "cell_type": "code",
   "execution_count": 64,
   "metadata": {},
   "outputs": [
    {
     "data": {
      "text/html": [
       "<div>\n",
       "<style scoped>\n",
       "    .dataframe tbody tr th:only-of-type {\n",
       "        vertical-align: middle;\n",
       "    }\n",
       "\n",
       "    .dataframe tbody tr th {\n",
       "        vertical-align: top;\n",
       "    }\n",
       "\n",
       "    .dataframe thead th {\n",
       "        text-align: right;\n",
       "    }\n",
       "</style>\n",
       "<table border=\"1\" class=\"dataframe\">\n",
       "  <thead>\n",
       "    <tr style=\"text-align: right;\">\n",
       "      <th></th>\n",
       "      <th>trip_id</th>\n",
       "      <th>starttime</th>\n",
       "      <th>stoptime</th>\n",
       "      <th>bikeid</th>\n",
       "      <th>tripduration</th>\n",
       "      <th>from_station_id</th>\n",
       "      <th>from_station_name</th>\n",
       "      <th>to_station_id</th>\n",
       "      <th>to_station_name</th>\n",
       "      <th>usertype</th>\n",
       "      <th>gender</th>\n",
       "      <th>birthyear</th>\n",
       "      <th>start hour</th>\n",
       "      <th>posterior</th>\n",
       "    </tr>\n",
       "  </thead>\n",
       "  <tbody>\n",
       "    <tr>\n",
       "      <th>0</th>\n",
       "      <td>9080545</td>\n",
       "      <td>2016-03-31 23:30:00</td>\n",
       "      <td>2016-03-31 23:46:00</td>\n",
       "      <td>2295</td>\n",
       "      <td>926</td>\n",
       "      <td>156</td>\n",
       "      <td>Clark St &amp; Wellington Ave</td>\n",
       "      <td>166</td>\n",
       "      <td>Ashland Ave &amp; Wrightwood Ave</td>\n",
       "      <td>Subscriber</td>\n",
       "      <td>Male</td>\n",
       "      <td>1990.0</td>\n",
       "      <td>23</td>\n",
       "      <td>0.610348</td>\n",
       "    </tr>\n",
       "    <tr>\n",
       "      <th>1</th>\n",
       "      <td>9080521</td>\n",
       "      <td>2016-03-31 22:59:00</td>\n",
       "      <td>2016-03-31 23:02:00</td>\n",
       "      <td>3439</td>\n",
       "      <td>198</td>\n",
       "      <td>259</td>\n",
       "      <td>California Ave &amp; Francis Pl</td>\n",
       "      <td>276</td>\n",
       "      <td>California Ave &amp; North Ave</td>\n",
       "      <td>Subscriber</td>\n",
       "      <td>Male</td>\n",
       "      <td>1974.0</td>\n",
       "      <td>22</td>\n",
       "      <td>0.869322</td>\n",
       "    </tr>\n",
       "    <tr>\n",
       "      <th>2</th>\n",
       "      <td>9080479</td>\n",
       "      <td>2016-03-31 22:24:00</td>\n",
       "      <td>2016-03-31 22:26:00</td>\n",
       "      <td>4337</td>\n",
       "      <td>124</td>\n",
       "      <td>344</td>\n",
       "      <td>Ravenswood Ave &amp; Lawrence Ave</td>\n",
       "      <td>242</td>\n",
       "      <td>Damen Ave &amp; Leland Ave</td>\n",
       "      <td>Subscriber</td>\n",
       "      <td>Female</td>\n",
       "      <td>1992.0</td>\n",
       "      <td>22</td>\n",
       "      <td>0.874848</td>\n",
       "    </tr>\n",
       "    <tr>\n",
       "      <th>3</th>\n",
       "      <td>9080475</td>\n",
       "      <td>2016-03-31 22:22:00</td>\n",
       "      <td>2016-03-31 22:41:00</td>\n",
       "      <td>3760</td>\n",
       "      <td>1181</td>\n",
       "      <td>318</td>\n",
       "      <td>Southport Ave &amp; Irving Park Rd</td>\n",
       "      <td>458</td>\n",
       "      <td>Broadway &amp; Thorndale Ave</td>\n",
       "      <td>Subscriber</td>\n",
       "      <td>Female</td>\n",
       "      <td>1979.0</td>\n",
       "      <td>22</td>\n",
       "      <td>0.384760</td>\n",
       "    </tr>\n",
       "    <tr>\n",
       "      <th>4</th>\n",
       "      <td>9080443</td>\n",
       "      <td>2016-03-31 22:08:00</td>\n",
       "      <td>2016-03-31 22:19:00</td>\n",
       "      <td>1270</td>\n",
       "      <td>656</td>\n",
       "      <td>345</td>\n",
       "      <td>Lake Park Ave &amp; 56th St</td>\n",
       "      <td>426</td>\n",
       "      <td>Ellis Ave &amp; 60th St</td>\n",
       "      <td>Subscriber</td>\n",
       "      <td>Female</td>\n",
       "      <td>1997.0</td>\n",
       "      <td>22</td>\n",
       "      <td>0.766419</td>\n",
       "    </tr>\n",
       "  </tbody>\n",
       "</table>\n",
       "</div>"
      ],
      "text/plain": [
       "   trip_id           starttime            stoptime  bikeid  tripduration  \\\n",
       "0  9080545 2016-03-31 23:30:00 2016-03-31 23:46:00    2295           926   \n",
       "1  9080521 2016-03-31 22:59:00 2016-03-31 23:02:00    3439           198   \n",
       "2  9080479 2016-03-31 22:24:00 2016-03-31 22:26:00    4337           124   \n",
       "3  9080475 2016-03-31 22:22:00 2016-03-31 22:41:00    3760          1181   \n",
       "4  9080443 2016-03-31 22:08:00 2016-03-31 22:19:00    1270           656   \n",
       "\n",
       "   from_station_id               from_station_name  to_station_id  \\\n",
       "0              156       Clark St & Wellington Ave            166   \n",
       "1              259     California Ave & Francis Pl            276   \n",
       "2              344   Ravenswood Ave & Lawrence Ave            242   \n",
       "3              318  Southport Ave & Irving Park Rd            458   \n",
       "4              345         Lake Park Ave & 56th St            426   \n",
       "\n",
       "                to_station_name    usertype  gender  birthyear  start hour  \\\n",
       "0  Ashland Ave & Wrightwood Ave  Subscriber    Male     1990.0          23   \n",
       "1    California Ave & North Ave  Subscriber    Male     1974.0          22   \n",
       "2        Damen Ave & Leland Ave  Subscriber  Female     1992.0          22   \n",
       "3      Broadway & Thorndale Ave  Subscriber  Female     1979.0          22   \n",
       "4           Ellis Ave & 60th St  Subscriber  Female     1997.0          22   \n",
       "\n",
       "   posterior  \n",
       "0   0.610348  \n",
       "1   0.869322  \n",
       "2   0.874848  \n",
       "3   0.384760  \n",
       "4   0.766419  "
      ]
     },
     "execution_count": 64,
     "metadata": {},
     "output_type": "execute_result"
    }
   ],
   "source": [
    "chi.head()"
   ]
  },
  {
   "cell_type": "markdown",
   "metadata": {},
   "source": [
    "### Question 3.4\n",
    "##### If you design a classifier which classifies a customer as a Subscriber if their posterior probability is greater that 0.5, what is the error of this classifier given the true User Types in the chicago.csv dataset?"
   ]
  },
  {
   "cell_type": "code",
   "execution_count": 72,
   "metadata": {},
   "outputs": [],
   "source": [
    "def chi_classify(posterior):\n",
    "    if posterior > .5:\n",
    "        return 'Subscriber'\n",
    "    else:\n",
    "        return 'Customer'\n",
    "    \n",
    "chi['prediction'] = chi['posterior'].apply(chi_classify-)"
   ]
  },
  {
   "cell_type": "code",
   "execution_count": 85,
   "metadata": {},
   "outputs": [
    {
     "name": "stdout",
     "output_type": "stream",
     "text": [
      "Error: 0.21673067058546258\n"
     ]
    }
   ],
   "source": [
    "print(\"Error:\", 1 - (np.count_nonzero(chi['usertype'] == chi['prediction']) / len(chi)))"
   ]
  },
  {
   "cell_type": "markdown",
   "metadata": {},
   "source": [
    "### Question 3.5\n",
    "##### Use the classifier derived from the chicago.csv dataset on the ny.csv and dc.csv datasets. How does this classifier perform? How does the performance compare to that in the previous part? (Make sure that the data for each city is in comparable units.)"
   ]
  },
  {
   "cell_type": "code",
   "execution_count": 86,
   "metadata": {},
   "outputs": [
    {
     "data": {
      "text/html": [
       "<div>\n",
       "<style scoped>\n",
       "    .dataframe tbody tr th:only-of-type {\n",
       "        vertical-align: middle;\n",
       "    }\n",
       "\n",
       "    .dataframe tbody tr th {\n",
       "        vertical-align: top;\n",
       "    }\n",
       "\n",
       "    .dataframe thead th {\n",
       "        text-align: right;\n",
       "    }\n",
       "</style>\n",
       "<table border=\"1\" class=\"dataframe\">\n",
       "  <thead>\n",
       "    <tr style=\"text-align: right;\">\n",
       "      <th></th>\n",
       "      <th>tripduration</th>\n",
       "      <th>Start station number</th>\n",
       "      <th>Start station</th>\n",
       "      <th>End station number</th>\n",
       "      <th>End station</th>\n",
       "      <th>Bike number</th>\n",
       "      <th>Member Type</th>\n",
       "      <th>starttime</th>\n",
       "      <th>stoptime</th>\n",
       "      <th>start hour</th>\n",
       "      <th>posterior</th>\n",
       "      <th>prediction</th>\n",
       "    </tr>\n",
       "  </thead>\n",
       "  <tbody>\n",
       "    <tr>\n",
       "      <th>0</th>\n",
       "      <td>427.387</td>\n",
       "      <td>31602</td>\n",
       "      <td>Park Rd &amp; Holmead Pl NW</td>\n",
       "      <td>31207</td>\n",
       "      <td>Georgia Ave and Fairmont St NW</td>\n",
       "      <td>W20842</td>\n",
       "      <td>Registered</td>\n",
       "      <td>2016-03-31 22:57:00</td>\n",
       "      <td>2016-03-31 23:04:00</td>\n",
       "      <td>22</td>\n",
       "      <td>0.835772</td>\n",
       "      <td>Registered</td>\n",
       "    </tr>\n",
       "    <tr>\n",
       "      <th>1</th>\n",
       "      <td>587.551</td>\n",
       "      <td>31105</td>\n",
       "      <td>14th &amp; Harvard St NW</td>\n",
       "      <td>31266</td>\n",
       "      <td>11th &amp; M St NW</td>\n",
       "      <td>W21385</td>\n",
       "      <td>Registered</td>\n",
       "      <td>2016-03-31 22:46:00</td>\n",
       "      <td>2016-03-31 22:56:00</td>\n",
       "      <td>22</td>\n",
       "      <td>0.792097</td>\n",
       "      <td>Registered</td>\n",
       "    </tr>\n",
       "    <tr>\n",
       "      <th>2</th>\n",
       "      <td>397.979</td>\n",
       "      <td>31634</td>\n",
       "      <td>3rd &amp; Tingey St SE</td>\n",
       "      <td>31108</td>\n",
       "      <td>4th &amp; M St SW</td>\n",
       "      <td>W00773</td>\n",
       "      <td>Registered</td>\n",
       "      <td>2016-03-31 22:46:00</td>\n",
       "      <td>2016-03-31 22:53:00</td>\n",
       "      <td>22</td>\n",
       "      <td>0.841722</td>\n",
       "      <td>Registered</td>\n",
       "    </tr>\n",
       "    <tr>\n",
       "      <th>3</th>\n",
       "      <td>444.282</td>\n",
       "      <td>31200</td>\n",
       "      <td>Massachusetts Ave &amp; Dupont Circle NW</td>\n",
       "      <td>31201</td>\n",
       "      <td>15th &amp; P St NW</td>\n",
       "      <td>W21397</td>\n",
       "      <td>Registered</td>\n",
       "      <td>2016-03-31 22:42:00</td>\n",
       "      <td>2016-03-31 22:50:00</td>\n",
       "      <td>22</td>\n",
       "      <td>0.832093</td>\n",
       "      <td>Registered</td>\n",
       "    </tr>\n",
       "    <tr>\n",
       "      <th>4</th>\n",
       "      <td>780.875</td>\n",
       "      <td>31203</td>\n",
       "      <td>14th &amp; Rhode Island Ave NW</td>\n",
       "      <td>31604</td>\n",
       "      <td>3rd &amp; H St NW</td>\n",
       "      <td>W00213</td>\n",
       "      <td>Registered</td>\n",
       "      <td>2016-03-31 22:21:00</td>\n",
       "      <td>2016-03-31 22:34:00</td>\n",
       "      <td>22</td>\n",
       "      <td>0.705987</td>\n",
       "      <td>Registered</td>\n",
       "    </tr>\n",
       "  </tbody>\n",
       "</table>\n",
       "</div>"
      ],
      "text/plain": [
       "   tripduration  Start station number                         Start station  \\\n",
       "0       427.387                 31602               Park Rd & Holmead Pl NW   \n",
       "1       587.551                 31105                  14th & Harvard St NW   \n",
       "2       397.979                 31634                    3rd & Tingey St SE   \n",
       "3       444.282                 31200  Massachusetts Ave & Dupont Circle NW   \n",
       "4       780.875                 31203            14th & Rhode Island Ave NW   \n",
       "\n",
       "   End station number                     End station Bike number Member Type  \\\n",
       "0               31207  Georgia Ave and Fairmont St NW      W20842  Registered   \n",
       "1               31266                  11th & M St NW      W21385  Registered   \n",
       "2               31108                   4th & M St SW      W00773  Registered   \n",
       "3               31201                  15th & P St NW      W21397  Registered   \n",
       "4               31604                   3rd & H St NW      W00213  Registered   \n",
       "\n",
       "            starttime            stoptime  start hour  posterior  prediction  \n",
       "0 2016-03-31 22:57:00 2016-03-31 23:04:00          22   0.835772  Registered  \n",
       "1 2016-03-31 22:46:00 2016-03-31 22:56:00          22   0.792097  Registered  \n",
       "2 2016-03-31 22:46:00 2016-03-31 22:53:00          22   0.841722  Registered  \n",
       "3 2016-03-31 22:42:00 2016-03-31 22:50:00          22   0.832093  Registered  \n",
       "4 2016-03-31 22:21:00 2016-03-31 22:34:00          22   0.705987  Registered  "
      ]
     },
     "execution_count": 86,
     "metadata": {},
     "output_type": "execute_result"
    }
   ],
   "source": [
    "dc.head()"
   ]
  },
  {
   "cell_type": "code",
   "execution_count": 87,
   "metadata": {},
   "outputs": [],
   "source": [
    "def ny_classify(posterior):\n",
    "    if posterior > .5:\n",
    "        return 'Subscriber'\n",
    "    else:\n",
    "        return 'Customer'\n",
    "    \n",
    "def dc_classify(posterior):\n",
    "    if posterior > .5:\n",
    "        return 'Registered'\n",
    "    else:\n",
    "        return 'Casual'\n",
    "    \n",
    "# New york prediction\n",
    "ny['posterior'] = ny['tripduration'].apply(posterior_prob)\n",
    "ny['prediction'] = ny['posterior'].apply(ny_classify)\n",
    "\n",
    "# New york prediction\n",
    "dc['posterior'] = dc['tripduration'].apply(posterior_prob)\n",
    "dc['prediction'] = dc['posterior'].apply(dc_classify)"
   ]
  },
  {
   "cell_type": "code",
   "execution_count": 88,
   "metadata": {},
   "outputs": [
    {
     "name": "stdout",
     "output_type": "stream",
     "text": [
      "NYC Error: 0.22804716797086688\n",
      "DC Error: 0.20954075324910293\n"
     ]
    }
   ],
   "source": [
    "print(\"NYC Error:\", 1 - (np.count_nonzero(ny['usertype'] == ny['prediction']) / len(ny)))\n",
    "print(\"DC Error:\", 1 - (np.count_nonzero(dc['Member Type'] == dc['prediction']) / len(dc)))"
   ]
  },
  {
   "cell_type": "markdown",
   "metadata": {},
   "source": [
    "Overall, the classifier performs surprisingly well. In particular, we see that for Chicago the error is roughly .21, where for DC, the error is closer to .2, which is a surprising result since we trained on Chicago. With this being said, we can assume consumer behaviors (and, potentially, the physical landscapes of the cities) are similar across all 3 cities since there errors are all roughly the same."
   ]
  },
  {
   "cell_type": "markdown",
   "metadata": {},
   "source": [
    "# Question 4"
   ]
  },
  {
   "cell_type": "code",
   "execution_count": 100,
   "metadata": {},
   "outputs": [
    {
     "data": {
      "text/html": [
       "<div>\n",
       "<style scoped>\n",
       "    .dataframe tbody tr th:only-of-type {\n",
       "        vertical-align: middle;\n",
       "    }\n",
       "\n",
       "    .dataframe tbody tr th {\n",
       "        vertical-align: top;\n",
       "    }\n",
       "\n",
       "    .dataframe thead th {\n",
       "        text-align: right;\n",
       "    }\n",
       "</style>\n",
       "<table border=\"1\" class=\"dataframe\">\n",
       "  <thead>\n",
       "    <tr style=\"text-align: right;\">\n",
       "      <th></th>\n",
       "      <th>instant</th>\n",
       "      <th>dteday</th>\n",
       "      <th>season</th>\n",
       "      <th>yr</th>\n",
       "      <th>mnth</th>\n",
       "      <th>holiday</th>\n",
       "      <th>weekday</th>\n",
       "      <th>workingday</th>\n",
       "      <th>weathersit</th>\n",
       "      <th>temp</th>\n",
       "      <th>atemp</th>\n",
       "      <th>hum</th>\n",
       "      <th>windspeed</th>\n",
       "      <th>casual</th>\n",
       "      <th>registered</th>\n",
       "      <th>cnt</th>\n",
       "      <th>szn</th>\n",
       "      <th>Weekend</th>\n",
       "    </tr>\n",
       "  </thead>\n",
       "  <tbody>\n",
       "    <tr>\n",
       "      <th>0</th>\n",
       "      <td>1</td>\n",
       "      <td>2011-01-01</td>\n",
       "      <td>1</td>\n",
       "      <td>0</td>\n",
       "      <td>1</td>\n",
       "      <td>0</td>\n",
       "      <td>6</td>\n",
       "      <td>0</td>\n",
       "      <td>2</td>\n",
       "      <td>0.344167</td>\n",
       "      <td>0.363625</td>\n",
       "      <td>0.805833</td>\n",
       "      <td>0.160446</td>\n",
       "      <td>331</td>\n",
       "      <td>654</td>\n",
       "      <td>985</td>\n",
       "      <td>0</td>\n",
       "      <td>1</td>\n",
       "    </tr>\n",
       "    <tr>\n",
       "      <th>1</th>\n",
       "      <td>2</td>\n",
       "      <td>2011-01-02</td>\n",
       "      <td>1</td>\n",
       "      <td>0</td>\n",
       "      <td>1</td>\n",
       "      <td>0</td>\n",
       "      <td>0</td>\n",
       "      <td>0</td>\n",
       "      <td>2</td>\n",
       "      <td>0.363478</td>\n",
       "      <td>0.353739</td>\n",
       "      <td>0.696087</td>\n",
       "      <td>0.248539</td>\n",
       "      <td>131</td>\n",
       "      <td>670</td>\n",
       "      <td>801</td>\n",
       "      <td>0</td>\n",
       "      <td>1</td>\n",
       "    </tr>\n",
       "    <tr>\n",
       "      <th>2</th>\n",
       "      <td>3</td>\n",
       "      <td>2011-01-03</td>\n",
       "      <td>1</td>\n",
       "      <td>0</td>\n",
       "      <td>1</td>\n",
       "      <td>0</td>\n",
       "      <td>1</td>\n",
       "      <td>1</td>\n",
       "      <td>1</td>\n",
       "      <td>0.196364</td>\n",
       "      <td>0.189405</td>\n",
       "      <td>0.437273</td>\n",
       "      <td>0.248309</td>\n",
       "      <td>120</td>\n",
       "      <td>1229</td>\n",
       "      <td>1349</td>\n",
       "      <td>0</td>\n",
       "      <td>0</td>\n",
       "    </tr>\n",
       "    <tr>\n",
       "      <th>3</th>\n",
       "      <td>4</td>\n",
       "      <td>2011-01-04</td>\n",
       "      <td>1</td>\n",
       "      <td>0</td>\n",
       "      <td>1</td>\n",
       "      <td>0</td>\n",
       "      <td>2</td>\n",
       "      <td>1</td>\n",
       "      <td>1</td>\n",
       "      <td>0.200000</td>\n",
       "      <td>0.212122</td>\n",
       "      <td>0.590435</td>\n",
       "      <td>0.160296</td>\n",
       "      <td>108</td>\n",
       "      <td>1454</td>\n",
       "      <td>1562</td>\n",
       "      <td>0</td>\n",
       "      <td>0</td>\n",
       "    </tr>\n",
       "    <tr>\n",
       "      <th>4</th>\n",
       "      <td>5</td>\n",
       "      <td>2011-01-05</td>\n",
       "      <td>1</td>\n",
       "      <td>0</td>\n",
       "      <td>1</td>\n",
       "      <td>0</td>\n",
       "      <td>3</td>\n",
       "      <td>1</td>\n",
       "      <td>1</td>\n",
       "      <td>0.226957</td>\n",
       "      <td>0.229270</td>\n",
       "      <td>0.436957</td>\n",
       "      <td>0.186900</td>\n",
       "      <td>82</td>\n",
       "      <td>1518</td>\n",
       "      <td>1600</td>\n",
       "      <td>0</td>\n",
       "      <td>0</td>\n",
       "    </tr>\n",
       "  </tbody>\n",
       "</table>\n",
       "</div>"
      ],
      "text/plain": [
       "   instant      dteday  season  yr  mnth  holiday  weekday  workingday  \\\n",
       "0        1  2011-01-01       1   0     1        0        6           0   \n",
       "1        2  2011-01-02       1   0     1        0        0           0   \n",
       "2        3  2011-01-03       1   0     1        0        1           1   \n",
       "3        4  2011-01-04       1   0     1        0        2           1   \n",
       "4        5  2011-01-05       1   0     1        0        3           1   \n",
       "\n",
       "   weathersit      temp     atemp       hum  windspeed  casual  registered  \\\n",
       "0           2  0.344167  0.363625  0.805833   0.160446     331         654   \n",
       "1           2  0.363478  0.353739  0.696087   0.248539     131         670   \n",
       "2           1  0.196364  0.189405  0.437273   0.248309     120        1229   \n",
       "3           1  0.200000  0.212122  0.590435   0.160296     108        1454   \n",
       "4           1  0.226957  0.229270  0.436957   0.186900      82        1518   \n",
       "\n",
       "    cnt  szn  Weekend  \n",
       "0   985    0        1  \n",
       "1   801    0        1  \n",
       "2  1349    0        0  \n",
       "3  1562    0        0  \n",
       "4  1600    0        0  "
      ]
     },
     "execution_count": 100,
     "metadata": {},
     "output_type": "execute_result"
    }
   ],
   "source": [
    "daily.head()"
   ]
  },
  {
   "cell_type": "markdown",
   "metadata": {},
   "source": [
    "### Question 4.1.1.1\n",
    "##### Draw the graph of the causal model, with arrows between variables to denote causality. Your graph should include the following variables: temperature, weathersit, humidity, and number of rentals."
   ]
  },
  {
   "cell_type": "code",
   "execution_count": 176,
   "metadata": {},
   "outputs": [
    {
     "name": "stdout",
     "output_type": "stream",
     "text": [
      "Requirement already satisfied: causalgraphicalmodels in /Users/tannerarrizabalaga/anaconda3/lib/python3.7/site-packages (0.0.4)\n",
      "Requirement already satisfied: numpy in /Users/tannerarrizabalaga/anaconda3/lib/python3.7/site-packages (from causalgraphicalmodels) (1.16.2)\n",
      "Requirement already satisfied: pandas in /Users/tannerarrizabalaga/anaconda3/lib/python3.7/site-packages (from causalgraphicalmodels) (0.24.2)\n",
      "Requirement already satisfied: graphviz in /Users/tannerarrizabalaga/anaconda3/lib/python3.7/site-packages (from causalgraphicalmodels) (0.13.2)\n",
      "Requirement already satisfied: networkx in /Users/tannerarrizabalaga/anaconda3/lib/python3.7/site-packages (from causalgraphicalmodels) (2.2)\n",
      "Requirement already satisfied: python-dateutil>=2.5.0 in /Users/tannerarrizabalaga/anaconda3/lib/python3.7/site-packages (from pandas->causalgraphicalmodels) (2.8.0)\n",
      "Requirement already satisfied: pytz>=2011k in /Users/tannerarrizabalaga/anaconda3/lib/python3.7/site-packages (from pandas->causalgraphicalmodels) (2018.9)\n",
      "Requirement already satisfied: decorator>=4.3.0 in /Users/tannerarrizabalaga/anaconda3/lib/python3.7/site-packages (from networkx->causalgraphicalmodels) (4.4.0)\n",
      "Requirement already satisfied: six>=1.5 in /Users/tannerarrizabalaga/anaconda3/lib/python3.7/site-packages (from python-dateutil>=2.5.0->pandas->causalgraphicalmodels) (1.12.0)\n"
     ]
    }
   ],
   "source": [
    "!pip install causalgraphicalmodels"
   ]
  },
  {
   "cell_type": "code",
   "execution_count": 177,
   "metadata": {},
   "outputs": [],
   "source": [
    "from causalgraphicalmodels import CausalGraphicalModel"
   ]
  },
  {
   "cell_type": "code",
   "execution_count": 178,
   "metadata": {},
   "outputs": [
    {
     "data": {
      "image/svg+xml": [
       "<?xml version=\"1.0\" encoding=\"UTF-8\" standalone=\"no\"?>\n",
       "<!DOCTYPE svg PUBLIC \"-//W3C//DTD SVG 1.1//EN\"\n",
       " \"http://www.w3.org/Graphics/SVG/1.1/DTD/svg11.dtd\">\n",
       "<!-- Generated by graphviz version 2.40.1 (20161225.0304)\n",
       " -->\n",
       "<!-- Title: %3 Pages: 1 -->\n",
       "<svg width=\"492pt\" height=\"188pt\"\n",
       " viewBox=\"0.00 0.00 492.33 188.00\" xmlns=\"http://www.w3.org/2000/svg\" xmlns:xlink=\"http://www.w3.org/1999/xlink\">\n",
       "<g id=\"graph0\" class=\"graph\" transform=\"scale(1 1) rotate(0) translate(4 184)\">\n",
       "<title>%3</title>\n",
       "<polygon fill=\"#ffffff\" stroke=\"transparent\" points=\"-4,4 -4,-184 488.3293,-184 488.3293,4 -4,4\"/>\n",
       "<!-- Humidity (Z, Instrumental) -->\n",
       "<g id=\"node1\" class=\"node\">\n",
       "<title>Humidity (Z, Instrumental)</title>\n",
       "<ellipse fill=\"none\" stroke=\"#000000\" cx=\"109.8403\" cy=\"-162\" rx=\"109.6807\" ry=\"18\"/>\n",
       "<text text-anchor=\"middle\" x=\"109.8403\" y=\"-158.3\" font-family=\"Times,serif\" font-size=\"14.00\" fill=\"#000000\">Humidity (Z, Instrumental)</text>\n",
       "</g>\n",
       "<!-- Weathersit -->\n",
       "<g id=\"node4\" class=\"node\">\n",
       "<title>Weathersit</title>\n",
       "<ellipse fill=\"none\" stroke=\"#000000\" cx=\"282.8403\" cy=\"-90\" rx=\"50.0912\" ry=\"18\"/>\n",
       "<text text-anchor=\"middle\" x=\"282.8403\" y=\"-86.3\" font-family=\"Times,serif\" font-size=\"14.00\" fill=\"#000000\">Weathersit</text>\n",
       "</g>\n",
       "<!-- Humidity (Z, Instrumental)&#45;&gt;Weathersit -->\n",
       "<g id=\"edge3\" class=\"edge\">\n",
       "<title>Humidity (Z, Instrumental)&#45;&gt;Weathersit</title>\n",
       "<path fill=\"none\" stroke=\"#000000\" d=\"M150.4011,-145.1192C177.5595,-133.8162 213.2295,-118.971 240.7082,-107.5347\"/>\n",
       "<polygon fill=\"#000000\" stroke=\"#000000\" points=\"242.1712,-110.7169 250.0587,-103.6432 239.4815,-104.2543 242.1712,-110.7169\"/>\n",
       "</g>\n",
       "<!-- Temperature (W, Hidden Var.) -->\n",
       "<g id=\"node2\" class=\"node\">\n",
       "<title>Temperature (W, Hidden Var.)</title>\n",
       "<ellipse fill=\"none\" stroke=\"#000000\" cx=\"360.8403\" cy=\"-162\" rx=\"123.4781\" ry=\"18\"/>\n",
       "<text text-anchor=\"middle\" x=\"360.8403\" y=\"-158.3\" font-family=\"Times,serif\" font-size=\"14.00\" fill=\"#000000\">Temperature (W, Hidden Var.)</text>\n",
       "</g>\n",
       "<!-- Number of rentals -->\n",
       "<g id=\"node3\" class=\"node\">\n",
       "<title>Number of rentals</title>\n",
       "<ellipse fill=\"none\" stroke=\"#000000\" cx=\"321.8403\" cy=\"-18\" rx=\"76.8869\" ry=\"18\"/>\n",
       "<text text-anchor=\"middle\" x=\"321.8403\" y=\"-14.3\" font-family=\"Times,serif\" font-size=\"14.00\" fill=\"#000000\">Number of rentals</text>\n",
       "</g>\n",
       "<!-- Temperature (W, Hidden Var.)&#45;&gt;Number of rentals -->\n",
       "<g id=\"edge2\" class=\"edge\">\n",
       "<title>Temperature (W, Hidden Var.)&#45;&gt;Number of rentals</title>\n",
       "<path fill=\"none\" stroke=\"#000000\" d=\"M357.8218,-143.8789C354.5834,-125.5659 348.9353,-96.5462 341.8403,-72 339.3262,-63.3022 336.0879,-54.0004 332.9525,-45.6104\"/>\n",
       "<polygon fill=\"#000000\" stroke=\"#000000\" points=\"336.219,-44.3532 329.3686,-36.271 329.6837,-46.8611 336.219,-44.3532\"/>\n",
       "</g>\n",
       "<!-- Temperature (W, Hidden Var.)&#45;&gt;Weathersit -->\n",
       "<g id=\"edge1\" class=\"edge\">\n",
       "<title>Temperature (W, Hidden Var.)&#45;&gt;Weathersit</title>\n",
       "<path fill=\"none\" stroke=\"#000000\" d=\"M341.5594,-144.2022C331.6126,-135.0206 319.3434,-123.6952 308.5967,-113.7752\"/>\n",
       "<polygon fill=\"#000000\" stroke=\"#000000\" points=\"310.8175,-111.062 301.0955,-106.851 306.0695,-116.2056 310.8175,-111.062\"/>\n",
       "</g>\n",
       "<!-- Weathersit&#45;&gt;Number of rentals -->\n",
       "<g id=\"edge4\" class=\"edge\">\n",
       "<title>Weathersit&#45;&gt;Number of rentals</title>\n",
       "<path fill=\"none\" stroke=\"#000000\" d=\"M292.4807,-72.2022C296.9004,-64.0428 302.2371,-54.1904 307.1417,-45.1358\"/>\n",
       "<polygon fill=\"#000000\" stroke=\"#000000\" points=\"310.3545,-46.5531 312.0398,-36.0931 304.1994,-43.219 310.3545,-46.5531\"/>\n",
       "</g>\n",
       "</g>\n",
       "</svg>\n"
      ],
      "text/plain": [
       "<graphviz.dot.Digraph at 0x1a26257518>"
      ]
     },
     "execution_count": 178,
     "metadata": {},
     "output_type": "execute_result"
    }
   ],
   "source": [
    "causal_model = CausalGraphicalModel(\n",
    "    nodes=[\"Temperature (W, Hidden Var.)\", \"Humidity (Z, Instrumental)\", \"Weathersit\", \"Number of rentals\"],\n",
    "    edges=[\n",
    "        (\"Temperature (W, Hidden Var.)\", \"Weathersit\"), \n",
    "        (\"Temperature (W, Hidden Var.)\", \"Number of rentals\"), \n",
    "        (\"Humidity (Z, Instrumental)\", \"Weathersit\"),\n",
    "        (\"Weathersit\", \"Number of rentals\")\n",
    "    ]\n",
    ")\n",
    "\n",
    "causal_model.draw()"
   ]
  },
  {
   "cell_type": "markdown",
   "metadata": {},
   "source": [
    "### Question 4.1.1.2\n",
    "##### Clearly describe the assumptions necessary for 2SLS analysis. For any assumptions you can check with the data set, do so. For the remainder of the assumptions, give your best guess as to whether they hold given the problem setting, and discuss how you would test them (this could mean collecting more data)."
   ]
  },
  {
   "cell_type": "markdown",
   "metadata": {},
   "source": [
    "The necessary assumptions in order to perform a 2SLS analysis is that 1. all observations are independent of each other and 2. error terms will follow a normal distribution."
   ]
  },
  {
   "cell_type": "code",
   "execution_count": 225,
   "metadata": {},
   "outputs": [
    {
     "name": "stdout",
     "output_type": "stream",
     "text": [
      "Correlation between humidity and temperature 0.1269629390271887\n",
      "Correlation between humidity and count -0.10065856213715531\n"
     ]
    }
   ],
   "source": [
    "#Humidity and Temperature should be uncorrelated\n",
    "ht_corr = np.corrcoef(daily['hum'], daily['temp'])\n",
    "print(\"Correlation between humidity and temperature\", ht_corr[0,1])\n",
    "\n",
    "#Humidity and Number of rentals should be uncorrelated\n",
    "hc_corr = np.corrcoef(daily['hum'], daily['cnt'])\n",
    "print(\"Correlation between humidity and count\", hc_corr[0,1])"
   ]
  },
  {
   "cell_type": "markdown",
   "metadata": {},
   "source": [
    "### Question 4.1.2.1\n",
    "##### Describe the 2SLS procedure, as it applies to the variables above. Describe the procedure at a level such that someone who has taken DS100, but not DS102, would be able to reproduce the analysis (without looking at your code)."
   ]
  },
  {
   "cell_type": "markdown",
   "metadata": {},
   "source": [
    "2SLS is built on top of the one-stage OLS method. For the 2SLS procedure, we run it in 2 stages. The first step is to see the first stage effect the instrument (Humidity) has on the treatment (Number of rentals). We then use this result to split the treament into two parts: one part that explains the treatment by the instrument, and another part explained by all other variables (Temperature and Weathersit). From here, we can go to the second stage, where we will look at the correlation between the first part (Instrument --> Treatment; \"Adjusted Treatment\") and the outcome variable. This correlation is the treament effect we want for the test."
   ]
  },
  {
   "cell_type": "markdown",
   "metadata": {},
   "source": [
    "### Question 4.1.2.2\n",
    "##### Report the resulting treatment affect of weathersit on the total number of bike rentals. Interpret this treatment effect estimate in terms of the variables of the problem."
   ]
  },
  {
   "cell_type": "code",
   "execution_count": 256,
   "metadata": {},
   "outputs": [],
   "source": [
    "# daily['weathersit'] = daily['weathersit'].apply(lambda x: 0 if x == 1 else 1)"
   ]
  },
  {
   "cell_type": "code",
   "execution_count": 301,
   "metadata": {},
   "outputs": [
    {
     "name": "stdout",
     "output_type": "stream",
     "text": [
      "Hum.        2.261173\n",
      "Constant   -0.024428\n",
      "dtype: float64\n"
     ]
    }
   ],
   "source": [
    "import statsmodels.api as sm\n",
    "\n",
    "# First Stage\n",
    "stage1_features = np.column_stack((daily['hum'], np.ones(len(daily))))\n",
    "stage1_ols = sm.OLS(daily['weathersit'], pd.DataFrame(stage1_features, columns=['Hum.', 'Constant']))\n",
    "stage1_ols_model = (stage1_ols.fit())\n",
    "stage1_ols_results = stage1_ols_model.params # predicted coefficients\n",
    "print(stage1_ols_results)"
   ]
  },
  {
   "cell_type": "code",
   "execution_count": 302,
   "metadata": {},
   "outputs": [],
   "source": [
    "weather_predicted = stage1_ols_model.predict() # All predictions for X hat"
   ]
  },
  {
   "cell_type": "code",
   "execution_count": 303,
   "metadata": {},
   "outputs": [
    {
     "data": {
      "text/plain": [
       "Weather Pred.    -605.473582\n",
       "Constant         5349.195695\n",
       "dtype: float64"
      ]
     },
     "execution_count": 303,
     "metadata": {},
     "output_type": "execute_result"
    }
   ],
   "source": [
    "# Second Stage\n",
    "stage2_features = np.column_stack((weather_predicted, np.ones(len(daily))))\n",
    "stage2_model = sm.OLS(daily['cnt'], pd.DataFrame(stage2_features, columns=['Weather Pred.', 'Constant']))\n",
    "stage2ols = (stage2_model.fit())\n",
    "stage2ols_results = stage2ols.params\n",
    "\n",
    "stage2ols_results\n",
    "# alpha_2SLS = stage2ols_results[2]"
   ]
  },
  {
   "cell_type": "markdown",
   "metadata": {},
   "source": [
    "### Question 4.1.2.3\n",
    "##### Report the resulting treatment affect of weathersit on the number of casual bike rentals, and on the number of registered bike rentals."
   ]
  },
  {
   "cell_type": "markdown",
   "metadata": {},
   "source": [
    "#### Casual rider prediction"
   ]
  },
  {
   "cell_type": "code",
   "execution_count": 304,
   "metadata": {
    "scrolled": true
   },
   "outputs": [
    {
     "name": "stdout",
     "output_type": "stream",
     "text": [
      "Hum.        2.261173\n",
      "Constant   -0.024428\n",
      "dtype: float64\n"
     ]
    }
   ],
   "source": [
    "import statsmodels.api as sm\n",
    "\n",
    "# First Stage\n",
    "stage1_features = np.column_stack((daily['hum'], np.ones(len(daily))))\n",
    "stage1_ols = sm.OLS(daily['weathersit'], pd.DataFrame(stage1_features, columns=['Hum.', 'Constant']))\n",
    "stage1_ols_model = (stage1_ols.fit())\n",
    "stage1_ols_results = stage1_ols_model.params # predicted coefficients\n",
    "print(stage1_ols_results)"
   ]
  },
  {
   "cell_type": "code",
   "execution_count": 305,
   "metadata": {},
   "outputs": [],
   "source": [
    "weather_predicted = stage1_ols_model.predict() # All predictions for X hat"
   ]
  },
  {
   "cell_type": "code",
   "execution_count": 306,
   "metadata": {
    "scrolled": true
   },
   "outputs": [
    {
     "data": {
      "text/plain": [
       "Weather Pred.    -164.180153\n",
       "Constant         1077.265056\n",
       "dtype: float64"
      ]
     },
     "execution_count": 306,
     "metadata": {},
     "output_type": "execute_result"
    }
   ],
   "source": [
    "# Second Stage\n",
    "stage2_features = np.column_stack((weather_predicted, np.ones(len(daily))))\n",
    "stage2_model = sm.OLS(daily['casual'], pd.DataFrame(stage2_features, columns=['Weather Pred.', 'Constant']))\n",
    "stage2ols = (stage2_model.fit())\n",
    "stage2ols_results = stage2ols.params\n",
    "\n",
    "stage2ols_results\n",
    "# alpha_2SLS = stage2ols_results[2]"
   ]
  },
  {
   "cell_type": "markdown",
   "metadata": {},
   "source": [
    "#### Registered rider prediction"
   ]
  },
  {
   "cell_type": "code",
   "execution_count": 307,
   "metadata": {},
   "outputs": [
    {
     "name": "stdout",
     "output_type": "stream",
     "text": [
      "Hum.        2.261173\n",
      "Constant   -0.024428\n",
      "dtype: float64\n"
     ]
    }
   ],
   "source": [
    "import statsmodels.api as sm\n",
    "\n",
    "# First Stage\n",
    "stage1_features = np.column_stack((daily['hum'], np.ones(len(daily))))\n",
    "stage1_ols = sm.OLS(daily['weathersit'], pd.DataFrame(stage1_features, columns=['Hum.', 'Constant']))\n",
    "stage1_ols_model = (stage1_ols.fit())\n",
    "stage1_ols_results = stage1_ols_model.params # predicted coefficients\n",
    "print(stage1_ols_results)"
   ]
  },
  {
   "cell_type": "code",
   "execution_count": 308,
   "metadata": {},
   "outputs": [],
   "source": [
    "weather_predicted = stage1_ols_model.predict() # All predictions for X hat"
   ]
  },
  {
   "cell_type": "code",
   "execution_count": 309,
   "metadata": {
    "scrolled": true
   },
   "outputs": [
    {
     "data": {
      "text/plain": [
       "Weather Pred.    -441.293429\n",
       "Constant         4271.930640\n",
       "dtype: float64"
      ]
     },
     "execution_count": 309,
     "metadata": {},
     "output_type": "execute_result"
    }
   ],
   "source": [
    "# Second Stage\n",
    "stage2_features = np.column_stack((weather_predicted, np.ones(len(daily))))\n",
    "stage2_model = sm.OLS(daily['registered'], pd.DataFrame(stage2_features, columns=['Weather Pred.', 'Constant']))\n",
    "stage2ols = (stage2_model.fit())\n",
    "stage2ols_results = stage2ols.params\n",
    "\n",
    "stage2ols_results\n",
    "# alpha_2SLS = stage2ols_results[2]"
   ]
  },
  {
   "cell_type": "markdown",
   "metadata": {},
   "source": [
    "### Question 4.1.3.1\n",
    "##### Give a three sentence summary of the question, how and why we tested it, and the results of the analysis."
   ]
  },
  {
   "cell_type": "markdown",
   "metadata": {},
   "source": [
    "The main question we were asking was what is the effect of the weather on the count bikes rented everyday (later split by \"casual\" and \"registered\"). In order to tackle this quesiton, we used a 2SLS model, and we did this because we believed there was hidden variables that have a direct effect on our regressor and our outcome. We found that the coefficient for weather in our model was roughly -400 for original prediction on count, giving us the idea that when weather gets worse, we - on average - expect a significant drop for our count of bikes rented (this is seen as well especially for our casual group of riders)."
   ]
  },
  {
   "cell_type": "markdown",
   "metadata": {},
   "source": [
    "### Question 4.1.3.2\n",
    "##### Interpret the treatment effect estimates that resulted for the number of casual rentals and for the number of registered rentals. Is the magnitude of the treatment effect higher for one group than another? Give at least one possible reason for the difference/similarity you find."
   ]
  },
  {
   "cell_type": "code",
   "execution_count": 310,
   "metadata": {},
   "outputs": [
    {
     "name": "stdout",
     "output_type": "stream",
     "text": [
      "Magnitude for casual: 0.19356838900062417\n",
      "Magniture for registered: 0.1206982014931181\n"
     ]
    }
   ],
   "source": [
    "# Evaluating magnitude for casual\n",
    "print(\"Magnitude for casual:\", np.abs(-164.180153)/np.mean(daily['casual']))\n",
    "\n",
    "# Evaluating magnitude for registered\n",
    "print(\"Magniture for registered:\", np.abs(-441.293429)/np.mean(daily['registered']))"
   ]
  },
  {
   "cell_type": "markdown",
   "metadata": {},
   "source": [
    "In order to evaluate magnitude, I decided to compare our coefficients to the average number of rides on a daily basis in DC for each group. As we can see, the magnitude for casual is was almost double the magniture for registered. This makes a lot of sense for this situation because the main reason why individuals become registered riders is because they are using the bike on a constant basis in order to accomlish a necessary goal, and even a slight decline in weather will not stop them from achieving that goal (getting to work, working out, etc.). This idea is supported by the visualizaiton below as well, as casual rider count begins to decline once the slightest bit of poor weather shows, while registered rider count barely falters."
   ]
  },
  {
   "cell_type": "code",
   "execution_count": 311,
   "metadata": {},
   "outputs": [
    {
     "data": {
      "text/plain": [
       "<matplotlib.collections.PathCollection at 0x1a28050e80>"
      ]
     },
     "execution_count": 311,
     "metadata": {},
     "output_type": "execute_result"
    },
    {
     "data": {
      "image/png": "[encoded data removed]",
      "text/plain": [
       "<Figure size 432x288 with 1 Axes>"
      ]
     },
     "metadata": {
      "needs_background": "light"
     },
     "output_type": "display_data"
    }
   ],
   "source": [
    "plt.scatter(daily['weathersit'], daily['casual'])"
   ]
  },
  {
   "cell_type": "code",
   "execution_count": 312,
   "metadata": {},
   "outputs": [
    {
     "data": {
      "text/plain": [
       "<matplotlib.collections.PathCollection at 0x1a283a1ac8>"
      ]
     },
     "execution_count": 312,
     "metadata": {},
     "output_type": "execute_result"
    },
    {
     "data": {
      "image/png": "[encoded data removed]",
      "text/plain": [
       "<Figure size 432x288 with 1 Axes>"
      ]
     },
     "metadata": {
      "needs_background": "light"
     },
     "output_type": "display_data"
    }
   ],
   "source": [
    "plt.scatter(daily['weathersit'], daily['registered'])"
   ]
  },
  {
   "cell_type": "markdown",
   "metadata": {},
   "source": [
    "### Question 4.1.3.3\n",
    "##### Discuss the applicability of the chosen model (causal graph from above) to this problem. Are there any variables that might missing from the causal graph? Are there any arrows that are missing?"
   ]
  },
  {
   "cell_type": "markdown",
   "metadata": {},
   "source": [
    "The reason we want to do 2SLS model here is because even though we have features we want to test, there is a large probability there is some kind of confounding variable that is not independent of the features. In order to improve the model, we'd also likely want to add the features \"season\" and \"month\" -- and these two already have a direct positive correlation. And after looking at our original correlation coefficients, it can be seen that we do not need to add any other arrows."
   ]
  },
  {
   "cell_type": "markdown",
   "metadata": {},
   "source": [
    "### Question 4.1.3.4\n",
    "##### If you had the opportunity to design your own study (and collect new data) to test the effect of adverse weather on the number of rentals, what would that study look like? Explain at a high level the design decisions you would make and why (keep your response to no more than 5 sentences)."
   ]
  },
  {
   "cell_type": "markdown",
   "metadata": {},
   "source": [
    "If I were to create my own study, I would like to look at different instrumental variables. I would keep the overall procedure the same for each instrumental variable I test. The first instrumental variable I'd like to test is Weathersit. My current belief is that Weathersit is likely the best indicator for the count of bike rides as a feature, but actually analyzing the treatment affect could be worthwile, as the increase in weathersit likely leads to a decrease in bike rides. Also, using weekday as an instrumental variable would something I'd like to test in order to see its impact on the treatment variable. For both of these, I'd also like to add more in-depth weather data, as we could do the features from the \"Weathersit\" column and one-hot-encode them across our dataset to make it more granular."
   ]
  },
  {
   "cell_type": "code",
   "execution_count": null,
   "metadata": {},
   "outputs": [],
   "source": []
  }
 ],
 "metadata": {
  "kernelspec": {
   "display_name": "Python 3",
   "language": "python",
   "name": "python3"
  },
  "language_info": {
   "codemirror_mode": {
    "name": "ipython",
    "version": 3
   },
   "file_extension": ".py",
   "mimetype": "text/x-python",
   "name": "python",
   "nbconvert_exporter": "python",
   "pygments_lexer": "ipython3",
   "version": "3.7.3"
  }
 },
 "nbformat": 4,
 "nbformat_minor": 2
}
